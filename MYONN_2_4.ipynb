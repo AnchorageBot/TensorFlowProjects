{
  "nbformat": 4,
  "nbformat_minor": 0,
  "metadata": {
    "colab": {
      "provenance": [],
      "authorship_tag": "ABX9TyOOZq+M76TKDMPPDWuMAI1V"
    },
    "kernelspec": {
      "name": "python3",
      "display_name": "Python 3"
    },
    "language_info": {
      "name": "python"
    }
  },
  "cells": [
    {
      "cell_type": "markdown",
      "source": [
        "2.4 Neural Network Class - 3rd Draft (July 2023)\n",
        "\n",
        "References\n",
        "\n",
        "> Make Your Own Neural Network by Tariq Rashid\n",
        "\n",
        "> https://github.com/makeyourownneuralnetwork\n",
        "\n",
        "> Numpy\n",
        "\n",
        "> https://numpy.org\n",
        "\n",
        "> https://numpy.org/doc/stable/reference/generated/numpy.array.html\n",
        "\n",
        "> Python\n",
        "\n",
        "> https://www.python.org\n",
        "\n",
        "> Scipy\n",
        "\n",
        "> https://scipy.org\n",
        "\n",
        "> Wikipedia\n",
        "\n",
        "> https://en.wikipedia.org/wiki/Dot_product\n",
        "\n",
        "> https://en.wikipedia.org/wiki/Transpose\n",
        "\n",
        "IDE\n",
        "> Google Colab\n",
        "\n",
        "> https://colab.research.google.com\n"
      ],
      "metadata": {
        "id": "Ddz01PEZVIId"
      }
    },
    {
      "cell_type": "markdown",
      "source": [
        "\n",
        "\n",
        "A class is a reuseable blueprint for creating objects.\n",
        "\n",
        "Our draft class will simulate a biological neural network by having three parts that serve to:\n",
        "\n",
        "> initialize - set quantity of input, hidden, & output nodes\n",
        "\n",
        "> train - refine network weights by using training data\n",
        "\n",
        "> query - given input data, provide an answer from the output nodes"
      ],
      "metadata": {
        "id": "fW92NZRQFCN9"
      }
    },
    {
      "cell_type": "markdown",
      "source": [
        "Here is our 2nd draft, which serves as our starting point for this worksheet"
      ],
      "metadata": {
        "id": "g6_UBGC1orS-"
      }
    },
    {
      "cell_type": "code",
      "source": [
        "import numpy as np\n",
        "import scipy.special\n",
        "\n",
        "# draft class definition for a neural network\n",
        "class neuralNetwork:\n",
        "\n",
        "  # initialize the neural network\n",
        "  def __init__(self, inputNodes, hiddenNodes, outputNodes, learningRate):\n",
        "    # layers and learning rate\n",
        "    self.iNodes = inputNodes\n",
        "    self.hNodes = hiddenNodes\n",
        "    self.oNodes = outputNodes\n",
        "    self.learnRate = learningRate\n",
        "    # link weights connecting the layers via matrices\n",
        "    self.wih = np.random.normal(0.0, pow(self.iNodes, -0.5), (self.iNodes, self.hNodes))\n",
        "    self.who = np.random.normal(0.0, pow(self.hNodes, -0.5), (self.oNodes, self.hNodes))\n",
        "    # sigmoid activation function\n",
        "    self.activation_function = lambda​ x: scipy.special.expit(x)\n",
        "    pass\n",
        "\n",
        "  # train the neural network\n",
        "  def train():\n",
        "    pass\n",
        "\n",
        "  # query the neural network\n",
        "  def query():\n",
        "    pass\n"
      ],
      "metadata": {
        "id": "vKwq8GyejaER"
      },
      "execution_count": null,
      "outputs": []
    },
    {
      "cell_type": "markdown",
      "source": [
        "We will revise the query function so that it:\n",
        "\n",
        "> converts an inputs list to a 2d array  \n",
        "\n",
        "> calculates signals into the hidden layer\n",
        "\n",
        "> calculates the signals emerging from the hidden layer\n",
        "\n",
        "> calculates signals into the final output layer\n",
        "\n",
        "> calculates the signals emerging from the final output layer"
      ],
      "metadata": {
        "id": "bbonDPB6l8YA"
      }
    },
    {
      "cell_type": "markdown",
      "source": [
        "Let's look at the line of code that will convert an inputs list to a 2d array"
      ],
      "metadata": {
        "id": "v8BN22vlqZh5"
      }
    },
    {
      "cell_type": "code",
      "source": [
        "inputs = np.array(inputs_list, ndmin=2).T"
      ],
      "metadata": {
        "id": "0BgoSKSNqlJ0"
      },
      "execution_count": null,
      "outputs": []
    },
    {
      "cell_type": "markdown",
      "source": [
        "What do the np.array (remember that we abbreviated numpy as np) function parameters mean?\n",
        "\n",
        "> object: array_like\n",
        "\n",
        "> An array, any object exposing the array interface, an object whose __array__ method returns an array, or any (nested) sequence. If object is a scalar, a 0-dimensional array containing object is returned.\n",
        "\n",
        "> ndmin: int, optional\n",
        "\n",
        "> Specifies the minimum number of dimensions that the resulting array should have. Ones will be prepended to the shape as needed to meet this requirement.\n",
        "\n",
        "What does the attribute .T mean?\n",
        "\n",
        "> matrix transpose\n",
        "\n",
        "> it switches the row and column indices of the matrix A by producing another matrix, often denoted by AT\n",
        "\n",
        "> [horizontal data]^T = [vertical data]\n",
        "\n",
        "> [row]^T = [column]\n",
        "\n",
        "> [1,2]^T = [column 1 over 2]"
      ],
      "metadata": {
        "id": "QZ8F9rVMrO8Q"
      }
    },
    {
      "cell_type": "markdown",
      "source": [
        "Let's look at the line of code that calculates signals into the hidden layer"
      ],
      "metadata": {
        "id": "vQBU9EIBzVdl"
      }
    },
    {
      "cell_type": "code",
      "source": [
        "hidden_inputs = np.dot(self.wih, inputs)"
      ],
      "metadata": {
        "id": "ZFWvJpvizh7Y"
      },
      "execution_count": null,
      "outputs": []
    },
    {
      "cell_type": "markdown",
      "source": [
        "What do the np.dot parameters mean?\n",
        "\n",
        "> Dot product of two arrays\n",
        "\n",
        "> the self.wih array is defined in the initialization function\n",
        "\n",
        "> the inputs array is defined in the preceeding line of code (query function)"
      ],
      "metadata": {
        "id": "1Cz9vbNRz92x"
      }
    },
    {
      "cell_type": "markdown",
      "source": [
        "Let's look at the line of code that calculates signals emerging from the hidden layer"
      ],
      "metadata": {
        "id": "PgnvVYxO1E3m"
      }
    },
    {
      "cell_type": "code",
      "source": [
        "hidden_outputs = self.activation_function(hidden_inputs)"
      ],
      "metadata": {
        "id": "i1hdsE3O1RP0"
      },
      "execution_count": null,
      "outputs": []
    },
    {
      "cell_type": "markdown",
      "source": [
        "> We are running the signal through the sigmoid activation function in order to simulate a biological neuron as it makes it's fire/don't fire determination"
      ],
      "metadata": {
        "id": "EZGzCAWs14gR"
      }
    },
    {
      "cell_type": "markdown",
      "source": [
        "Let's look at the line of code that calculates signals into the final output layer"
      ],
      "metadata": {
        "id": "7tzWhLEa4S78"
      }
    },
    {
      "cell_type": "code",
      "source": [
        "final_inputs = numpy.dot(self.who, hidden_outputs)"
      ],
      "metadata": {
        "id": "JBZSaM1o4oUK"
      },
      "execution_count": null,
      "outputs": []
    },
    {
      "cell_type": "markdown",
      "source": [
        "> Dot product of two arrays"
      ],
      "metadata": {
        "id": "SGMvLdBY40Db"
      }
    },
    {
      "cell_type": "markdown",
      "source": [
        "Let's look at the line of code calculating the signal emerging from the final output layer"
      ],
      "metadata": {
        "id": "gnyJ75M46C2V"
      }
    },
    {
      "cell_type": "code",
      "source": [
        "final_outputs = self.activation_function(final_inputs)\n",
        "return final_outputs"
      ],
      "metadata": {
        "id": "p14tC80x6dWn"
      },
      "execution_count": null,
      "outputs": []
    },
    {
      "cell_type": "markdown",
      "source": [
        "> We are running the signal throught the sigmoid activation function"
      ],
      "metadata": {
        "id": "GIIVzCPf609b"
      }
    },
    {
      "cell_type": "markdown",
      "source": [
        "Let's look at the fully assembled query function"
      ],
      "metadata": {
        "id": "r15zvy7V7K7r"
      }
    },
    {
      "cell_type": "code",
      "source": [
        "def query(self, input_layer):\n",
        "  #convert inputs list to 2d array\n",
        "  inputs = np.array(inputs_list, ndmin=2).T\n",
        "  #calculate signals into hidden layer\n",
        "  hidden_inputs = np.dot(self.wih, inputs)\n",
        "  #calculate the signals emerging from hidden layer\n",
        "  hidden_outputs = self.activation_function(hidden_inputs)\n",
        "  #calculate signals into final output layer\n",
        "  final_inputs = np.dot(self.who, hidden_outputs)\n",
        "  #calculate the signals emerging from final output layer\n",
        "  final_outputs = self.activation_function(final_inputs)\n",
        "  return final_outputs\n"
      ],
      "metadata": {
        "id": "4Yymqlwr7Szl"
      },
      "execution_count": null,
      "outputs": []
    },
    {
      "cell_type": "markdown",
      "source": [
        "Let's look at the revised class and run a simple test"
      ],
      "metadata": {
        "id": "HOBe48Vz9V-o"
      }
    },
    {
      "cell_type": "code",
      "source": [
        "import numpy as np\n",
        "import scipy.special\n",
        "\n",
        "# draft class definition for a neural network\n",
        "class neuralNetwork:\n",
        "\n",
        "  # intialize the neural network\n",
        "  def __init__(self, inputNodes, hiddenNodes, outputNodes, learningRate):\n",
        "    # layers and learning rates\n",
        "    self.iNodes = inputNodes\n",
        "    self.hNodes = hiddenNodes\n",
        "    self.oNodes = outputNodes\n",
        "    self.learnRate = learningRate\n",
        "    # link weights connecting the layers via matrices\n",
        "    self.wih = np.random.normal(0.0, pow(self.iNodes, -0.5), (self.hNodes, self.iNodes))\n",
        "    self.who = np.random.normal(0.0, pow(self.hNodes, -0.5), (self.oNodes, self.hNodes))\n",
        "    # sigmoid activation function\n",
        "    self.activation_function = lambda x: scipy.special.expit(x)\n",
        "    pass\n",
        "\n",
        "  # train the neural network\n",
        "  def train():\n",
        "    pass\n",
        "\n",
        "  # query the neural network\n",
        "  def query(self, inputs_list):\n",
        "    #convert inputs list to 2d array\n",
        "    inputs = np.array(inputs_list, ndmin=2).T\n",
        "    #calculate signals into hidden layer\n",
        "    hidden_inputs = np.dot(self.wih, inputs)\n",
        "    #calculate the signals emerging from hidden layer\n",
        "    hidden_outputs = self.activation_function(hidden_inputs)\n",
        "    #calculate signals into final output layer\n",
        "    final_inputs = np.dot(self.who, hidden_outputs)\n",
        "    #calculate the signals emerging from final output layer\n",
        "    final_outputs = self.activation_function(final_inputs)\n",
        "    return final_outputs\n",
        "\n",
        "# test\n",
        "inputNodes = 3\n",
        "hiddenNodes = 3\n",
        "outputNodes = 3\n",
        "learningRate = 0.3\n",
        "n = neuralNetwork(inputNodes, hiddenNodes, outputNodes, learningRate)\n",
        "n.query([1.0, 0.5, -1.5])"
      ],
      "metadata": {
        "colab": {
          "base_uri": "https://localhost:8080/"
        },
        "id": "G8UhaWWE9egc",
        "outputId": "025cbe85-dda6-45ca-c26e-3b09fe3f8229"
      },
      "execution_count": 2,
      "outputs": [
        {
          "output_type": "execute_result",
          "data": {
            "text/plain": [
              "array([[0.48397255],\n",
              "       [0.41214331],\n",
              "       [0.55126331]])"
            ]
          },
          "metadata": {},
          "execution_count": 2
        }
      ]
    }
  ]
}