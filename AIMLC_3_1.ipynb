{
  "nbformat": 4,
  "nbformat_minor": 0,
  "metadata": {
    "colab": {
      "provenance": [],
      "authorship_tag": "ABX9TyNvLyrkHliYi+G9VlFaWSBh"
    },
    "kernelspec": {
      "name": "python3",
      "display_name": "Python 3"
    },
    "language_info": {
      "name": "python"
    }
  },
  "cells": [
    {
      "cell_type": "markdown",
      "source": [
        "# 3.1 Intro to Convolutional Neural Networks\n",
        "\n",
        "References\n",
        "\n",
        "> AI and Machine Learning for Coders - Laurence Moroney\n",
        "\n",
        "> * https://www.oreilly.com/library/view/ai-and-machine/9781492078180/\n",
        "\n",
        "> Kaggle Fashion MNIST\n",
        "\n",
        "> *  https://www.kaggle.com/datasets/zalando-research/fashionmnist\n",
        "\n",
        "> Keras\n",
        "\n",
        "> * https://keras.io\n",
        "\n",
        "> SciPy\n",
        "\n",
        "> * https://scipy.org\n",
        "\n",
        "> Tensorflow\n",
        "\n",
        "> * https://www.tensorflow.org\n",
        "\n",
        "\n",
        "IDE (Interactive Development Environment)\n",
        "\n",
        ">[Colab](https://colab.research.google.com)"
      ],
      "metadata": {
        "id": "Rw6NZBe5WRMm"
      }
    },
    {
      "cell_type": "markdown",
      "source": [
        "Let's look at this code snippet again and then take it apart line by line"
      ],
      "metadata": {
        "id": "_n0Wh9bc2in7"
      }
    },
    {
      "cell_type": "code",
      "source": [
        "import tensorflow as tf\n",
        "data = tf.keras.datasets.fashion_mnist\n",
        "\n",
        "(training_images, training_labels), (test_images, test_labels) = data.load_data()\n",
        "\n",
        "training_images = training_images.reshape(60000, 28, 28, 1)\n",
        "training_images = training_images / 255.0\n",
        "test_images = test_images.reshape(10000, 28, 28, 1)\n",
        "test_images = test_images / 255.0\n",
        "\n",
        "model = tf.keras.models.Sequential([\n",
        "      tf.keras.layers.Conv2D(64, (3, 3), activation='relu',\n",
        "                  input_shape=(28, 28, 1)),\n",
        "      tf.keras.layers.MaxPooling2D(2, 2),\n",
        "      tf.keras.layers.Conv2D(64, (3, 3), activation='relu'),\n",
        "      tf.keras.layers.MaxPooling2D(2,2),\n",
        "      tf.keras.layers.Flatten(),\n",
        "      tf.keras.layers.Dense(128, activation=tf.nn.relu),\n",
        "      tf.keras.layers.Dense(10, activation=tf.nn.softmax)\n",
        "    ])\n",
        "\n",
        "model.compile(optimizer='adam',\n",
        "       loss='sparse_categorical_crossentropy',\n",
        "       metrics=['accuracy'])\n",
        "\n",
        "model.fit(training_images, training_labels, epochs=5)\n",
        "\n",
        "model.evaluate(test_images, test_labels)\n",
        "\n",
        "classifications = model.predict(test_images)\n",
        "print(classifications[0])\n",
        "print(test_labels[0])"
      ],
      "metadata": {
        "colab": {
          "base_uri": "https://localhost:8080/"
        },
        "id": "5p_a2QiNyINE",
        "outputId": "7e9f8920-677a-4070-ea24-2377db785586"
      },
      "execution_count": null,
      "outputs": [
        {
          "output_type": "stream",
          "name": "stdout",
          "text": [
            "Epoch 1/5\n",
            "1875/1875 [==============================] - 103s 54ms/step - loss: 0.4424 - accuracy: 0.8390\n",
            "Epoch 2/5\n",
            "1875/1875 [==============================] - 100s 54ms/step - loss: 0.2955 - accuracy: 0.8914\n",
            "Epoch 3/5\n",
            "1875/1875 [==============================] - 101s 54ms/step - loss: 0.2471 - accuracy: 0.9081\n",
            "Epoch 4/5\n",
            "1875/1875 [==============================] - 99s 53ms/step - loss: 0.2138 - accuracy: 0.9204\n",
            "Epoch 5/5\n",
            "1875/1875 [==============================] - 100s 54ms/step - loss: 0.1872 - accuracy: 0.9299\n",
            "313/313 [==============================] - 5s 16ms/step - loss: 0.2502 - accuracy: 0.9109\n",
            "313/313 [==============================] - 4s 14ms/step\n",
            "[2.9701064e-09 1.0391694e-08 1.5225023e-11 3.2392287e-11 2.6296049e-11\n",
            " 1.5612089e-06 1.9190652e-12 1.8712221e-06 8.4099785e-09 9.9999648e-01]\n",
            "9\n"
          ]
        }
      ]
    },
    {
      "cell_type": "markdown",
      "source": [
        "This line pulls the tensorflow library:\n",
        "\n",
        "> https://www.tensorflow.org"
      ],
      "metadata": {
        "id": "qdtE9iBJ21TS"
      }
    },
    {
      "cell_type": "code",
      "source": [
        "import tensorflow as tf"
      ],
      "metadata": {
        "id": "1chok5W_3DCs"
      },
      "execution_count": null,
      "outputs": []
    },
    {
      "cell_type": "markdown",
      "source": [
        "This line pulls the Fashion MNIST dataset\n",
        "\n",
        "> https://keras.io/api/datasets/fashion_mnist/"
      ],
      "metadata": {
        "id": "0YN_4Uuf4pPD"
      }
    },
    {
      "cell_type": "code",
      "source": [
        "data = tf.keras.datasets.fashion_mnist"
      ],
      "metadata": {
        "id": "fnhMEita5MMT"
      },
      "execution_count": null,
      "outputs": []
    },
    {
      "cell_type": "markdown",
      "source": [
        "This line uses the load_data() function todefine the train and test image parameters\n",
        "\n",
        "> Tuple of NumPy arrays: (x_train, y_train), (x_test, y_test)\n",
        "\n",
        "> https://keras.io/api/datasets/fashion_mnist/#load_data-function"
      ],
      "metadata": {
        "id": "_b8o5aw557nm"
      }
    },
    {
      "cell_type": "code",
      "source": [
        "(training_images, training_labels), (test_images, test_labels) = data.load_data()"
      ],
      "metadata": {
        "id": "7R2r6CxW61lY"
      },
      "execution_count": null,
      "outputs": []
    },
    {
      "cell_type": "markdown",
      "source": [
        "This line reshapes inputs\n",
        "\n",
        "> our training dataset consists of 60,000 training images, each 28 × 28 pixels in size\n",
        "\n",
        "> 1 is the number of color channels\n",
        "\n",
        "> 1 for a grayscale image or 3 for a color image, where there are three channels (red, green, and blue), with the number indicating the intensity of that color.\n",
        "\n",
        "> https://keras.io/api/layers/reshaping_layers/reshape/"
      ],
      "metadata": {
        "id": "gkqptqo_8f1x"
      }
    },
    {
      "cell_type": "code",
      "source": [
        "training_images = training_images.reshape(60000, 28, 28, 1)"
      ],
      "metadata": {
        "id": "uatojWxS9dyw"
      },
      "execution_count": null,
      "outputs": []
    }
  ]
}