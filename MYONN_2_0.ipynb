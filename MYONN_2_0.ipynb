{
  "nbformat": 4,
  "nbformat_minor": 0,
  "metadata": {
    "colab": {
      "provenance": [],
      "authorship_tag": "ABX9TyMtnVQ2Opz9Hiq1grTiD4pR"
    },
    "kernelspec": {
      "name": "python3",
      "display_name": "Python 3"
    },
    "language_info": {
      "name": "python"
    }
  },
  "cells": [
    {
      "cell_type": "markdown",
      "source": [
        "2.0 Python Class Examples\n",
        "\n",
        "Reference\n",
        "> Make Your Own Neural Network by Tariq Rashid\n",
        "> https://github.com/makeyourownneuralnetwork\n",
        "\n",
        "IDE\n",
        "> Google Colab\n"
      ],
      "metadata": {
        "id": "Ddz01PEZVIId"
      }
    },
    {
      "cell_type": "code",
      "execution_count": 6,
      "metadata": {
        "colab": {
          "base_uri": "https://localhost:8080/"
        },
        "id": "yQSolzXpVGVV",
        "outputId": "413c146b-057f-4814-e6e0-21739f575ae5"
      },
      "outputs": [
        {
          "output_type": "stream",
          "name": "stdout",
          "text": [
            "House name is:  Beach House\n",
            "Indoor temperature is:  70\n",
            "Indoor humidity is:  50\n",
            "Outdoor temp is:  80\n"
          ]
        }
      ],
      "source": [
        "# A class is analogous to a blueprint for an object; we will simulate a smart house\n",
        "class smartHouse():\n",
        "\n",
        "  # initialisation method\n",
        "  def __init__(self, houseName, indoorTemp, indoorHumidity, outdoorTemp):\n",
        "    self.hName = houseName;\n",
        "    self.inTemp = indoorTemp;\n",
        "    self.inHumidity = indoorHumidity;\n",
        "    self.outTemp = outdoorTemp;\n",
        "\n",
        "  # get sensor data\n",
        "  def getSensorData(self):\n",
        "    print(\"House name is: \", self.hName)\n",
        "    print(\"Indoor temperature is: \", self.inTemp)\n",
        "    print(\"Indoor humidity is: \", self.inHumidity)\n",
        "    print(\"Outdoor temp is: \", self.outTemp)\n",
        "    pass\n",
        "\n",
        "  # sensor readings\n",
        "  def sensorReading(self, indoorTemp, indoorHumidity, outdoorTemp):\n",
        "    self.inTemp = indoorTemp;\n",
        "    self.inHumidity = indoorHumidity;\n",
        "    self.outTemp = outdoorTemp;\n",
        "    pass\n",
        "\n",
        "  pass\n",
        "\n",
        "beach_house = smartHouse(\"Beach House\", 70, 50, 80)\n",
        "beach_house.getSensorData()"
      ]
    }
  ]
}