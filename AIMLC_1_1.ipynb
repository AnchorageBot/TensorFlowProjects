{
  "nbformat": 4,
  "nbformat_minor": 0,
  "metadata": {
    "colab": {
      "provenance": [],
      "authorship_tag": "ABX9TyN5TQd+eGhorF9KtdgWpoGA"
    },
    "kernelspec": {
      "name": "python3",
      "display_name": "Python 3"
    },
    "language_info": {
      "name": "python"
    }
  },
  "cells": [
    {
      "cell_type": "markdown",
      "source": [
        "1.1 Intro to TensorFlow\n",
        "\n",
        "Reference\n",
        "\n",
        ">[AI and Machine Learning for Coders - Laurence Moroney](https://www.oreilly.com/library/view/ai-and-machine/9781492078180/)\n",
        "\n",
        "\n",
        "IDE (Interactive Development Environment)\n",
        "\n",
        ">[Colab](https://colab.research.google.com)"
      ],
      "metadata": {
        "id": "Rw6NZBe5WRMm"
      }
    },
    {
      "cell_type": "markdown",
      "source": [
        "This script will determine the relationship between the x and y sets:\n",
        "\n",
        ">x = -1.0, 0.0, 1.0, 2.0, 3.0, 4.0\n",
        "\n",
        "\n",
        ">y = -3.0, -1.0, 1.0, 3.0, 5.0, 7.0\n",
        "\n",
        "Here is the complete script:"
      ],
      "metadata": {
        "id": "ASL-fYbmXYnV"
      }
    },
    {
      "cell_type": "code",
      "source": [
        "import tensorflow as tf\n",
        "import numpy as np\n",
        "from tensorflow.keras import Sequential\n",
        "from tensorflow.keras.layers import Dense\n",
        "\n",
        "model = Sequential([Dense(units=1, input_shape=[1])])\n",
        "model.compile(optimizer='sgd', loss='mean_squared_error')\n",
        "\n",
        "xs = np.array([-1.0, 0.0, 1.0, 2.0, 3.0, 4.0], dtype=float)\n",
        "ys = np.array([-3.0,-1.0,1.0,3.0,5.0,7.0], dtype=float)\n",
        "\n",
        "model.fit(xs,ys, epochs=500)\n",
        "\n",
        "print(model.predict([10.0]))\n"
      ],
      "metadata": {
        "id": "YufEAqL5X6Gj"
      },
      "execution_count": null,
      "outputs": []
    },
    {
      "cell_type": "markdown",
      "source": [
        "Next we examine portions of the script in order to understand how it works"
      ],
      "metadata": {
        "id": "7PStJUXGdttP"
      }
    },
    {
      "cell_type": "markdown",
      "source": [
        "The first two lines of the script are used to import  the TensorFlow and Numpy ibraries and give them abbreviated names for use of use"
      ],
      "metadata": {
        "id": "yO5hsqzzZoMI"
      }
    },
    {
      "cell_type": "code",
      "source": [
        "import tensorflow as tf\n",
        "import numpy as np\n"
      ],
      "metadata": {
        "id": "lC0-UCwpaRNd"
      },
      "execution_count": null,
      "outputs": []
    },
    {
      "cell_type": "markdown",
      "source": [
        "The next two lines import Keras API libraries in order to set up a neural network"
      ],
      "metadata": {
        "id": "tHX5aKGlaWZY"
      }
    },
    {
      "cell_type": "code",
      "source": [
        "from tensorflow.keras import Sequential\n",
        "from tensorflow.keras.layers import Dense"
      ],
      "metadata": {
        "id": "ZwgzVey5aSIA"
      },
      "execution_count": null,
      "outputs": []
    },
    {
      "cell_type": "markdown",
      "source": [
        "We will setup a single layer, single neuron,  neural network to determine the relationship between the x and y sets\n",
        "\n",
        "Sequential is used to help define neural network layers\n",
        "\n",
        "In this case, 'Dense' specifies densely ordered neurons, unit=1 means one neuron, and input_shape=[1] means the input data shape is a single value represented by X"
      ],
      "metadata": {
        "id": "ja6TP1hodMPq"
      }
    },
    {
      "cell_type": "code",
      "source": [
        "model = Sequential([Dense(units=1, input_shape=[1])])"
      ],
      "metadata": {
        "id": "-ej1Z5IUdl6e"
      },
      "execution_count": null,
      "outputs": []
    },
    {
      "cell_type": "markdown",
      "source": [
        "Next we specify the parameters for a optimizer and loss function\n",
        "\n",
        "The optimizer, in this line, uses stochastic gradient descent as a mathematical method to find an optimum solution\n",
        "\n",
        "The loss function uses mean squared error to check and correct estimates which vary from the expected solution"
      ],
      "metadata": {
        "id": "YbzCmZjUhGmt"
      }
    },
    {
      "cell_type": "code",
      "source": [
        "model.compile(optimizer='sgd', loss='mean_squared_error')"
      ],
      "metadata": {
        "id": "mZQeoQ40GyTP"
      },
      "execution_count": null,
      "outputs": []
    },
    {
      "cell_type": "markdown",
      "source": [
        "These two lines are used to prpeare the x and y sets for linear algebra (matrix) operations using the numpy library"
      ],
      "metadata": {
        "id": "_D8ipouMH7Xq"
      }
    },
    {
      "cell_type": "code",
      "source": [
        "xs = np.array([-1.0, 0.0, 1.0, 2.0, 3.0, 4.0], dtype=float)\n",
        "ys = np.array([-3.0, -1.0, 1.0, 3.0, 5.0, 7.0], dtype=float)"
      ],
      "metadata": {
        "id": "ru6Qv0JDITKr"
      },
      "execution_count": null,
      "outputs": []
    },
    {
      "cell_type": "markdown",
      "source": [
        "You can read this line as “fit the Xs to the Ys, and try it 500 times.”"
      ],
      "metadata": {
        "id": "qzeaotJ1IoVV"
      }
    },
    {
      "cell_type": "code",
      "source": [
        "model.fit(xs, ys, epochs=500)"
      ],
      "metadata": {
        "id": "_hJpQzgzI9lq"
      },
      "execution_count": null,
      "outputs": []
    },
    {
      "cell_type": "markdown",
      "source": [
        "Our last line of code then used the trained model to get a prediction like this: predict Y when X is 10"
      ],
      "metadata": {
        "id": "Zjgh0HeNJD2C"
      }
    },
    {
      "cell_type": "code",
      "source": [
        "print(model.predict([10.0]))"
      ],
      "metadata": {
        "id": "Rk_OB5ebJcie"
      },
      "execution_count": null,
      "outputs": []
    }
  ]
}