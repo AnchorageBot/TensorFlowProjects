{
  "nbformat": 4,
  "nbformat_minor": 0,
  "metadata": {
    "colab": {
      "provenance": [],
      "authorship_tag": "ABX9TyMww3Domghd5QwQYvI7MBWp"
    },
    "kernelspec": {
      "name": "python3",
      "display_name": "Python 3"
    },
    "language_info": {
      "name": "python"
    }
  },
  "cells": [
    {
      "cell_type": "markdown",
      "source": [
        "2.1 Neural Network Link Weights\n",
        "\n",
        "Reference\n",
        "> Make Your Own Neural Network by Tariq Rashid\n",
        "\n",
        "> https://github.com/makeyourownneuralnetwork\n",
        "\n",
        "IDE\n",
        "> Google Colab\n",
        "\n",
        "> https://colab.research.google.com\n"
      ],
      "metadata": {
        "id": "Ddz01PEZVIId"
      }
    },
    {
      "cell_type": "markdown",
      "source": [
        "\n",
        "\n",
        "Link Weights are the heart of a neural network.\n",
        "\n",
        "They are:\n",
        "\n",
        "> used to calculate the signal forward through the network\n",
        "\n",
        "> used to calculate the error back through the network (propogation)\n",
        "\n",
        "> refined to improve network performance"
      ],
      "metadata": {
        "id": "fW92NZRQFCN9"
      }
    },
    {
      "cell_type": "markdown",
      "source": [
        "Let's start by making a 3 x 3 matrix, populated with random numbers, via numpy"
      ],
      "metadata": {
        "id": "y7rXMKCmG-AC"
      }
    },
    {
      "cell_type": "code",
      "source": [
        "import numpy as np\n",
        "\n",
        "np.random.rand(3,3)"
      ],
      "metadata": {
        "colab": {
          "base_uri": "https://localhost:8080/"
        },
        "id": "V6Q9PmxfHcC9",
        "outputId": "b7a8c7fb-86a4-4cdb-b8de-87309953ad38"
      },
      "execution_count": 1,
      "outputs": [
        {
          "output_type": "execute_result",
          "data": {
            "text/plain": [
              "array([[0.40112211, 0.80231345, 0.72431981],\n",
              "       [0.61093238, 0.47674953, 0.60810907],\n",
              "       [0.9891461 , 0.53436667, 0.03680993]])"
            ]
          },
          "metadata": {},
          "execution_count": 1
        }
      ]
    },
    {
      "cell_type": "markdown",
      "source": [
        "Let's expand the 3 x 3 matrix and include negative numbers\n",
        "\n",
        "We will subtract 0.5 from each value in order to have a mix of positive and negative values."
      ],
      "metadata": {
        "id": "LahOooVAIAIK"
      }
    },
    {
      "cell_type": "code",
      "source": [
        "np.random.rand(3,3) - 0.5"
      ],
      "metadata": {
        "colab": {
          "base_uri": "https://localhost:8080/"
        },
        "id": "lMhfiRGgIOEA",
        "outputId": "d3009d8f-fe36-459d-a66a-7120d856263f"
      },
      "execution_count": 4,
      "outputs": [
        {
          "output_type": "execute_result",
          "data": {
            "text/plain": [
              "array([[-0.23433991, -0.22797524, -0.74242043],\n",
              "       [-0.52033174, -0.54886771, -0.89134583],\n",
              "       [-0.92902025, -0.31122926, -0.15464158]])"
            ]
          },
          "metadata": {},
          "execution_count": 4
        }
      ]
    },
    {
      "cell_type": "markdown",
      "source": [
        "If we subtract 1 from each value, all of the random numbers will be negative and this will not work as we wish."
      ],
      "metadata": {
        "id": "gkPivpUGJrAM"
      }
    },
    {
      "cell_type": "code",
      "source": [
        "np.random.rand(3,3) - 1"
      ],
      "metadata": {
        "colab": {
          "base_uri": "https://localhost:8080/"
        },
        "id": "Lowlbyz9KEil",
        "outputId": "03eaeefb-ccd0-478e-df49-abd76332b234"
      },
      "execution_count": 5,
      "outputs": [
        {
          "output_type": "execute_result",
          "data": {
            "text/plain": [
              "array([[-0.08206902, -0.46064424, -0.59457197],\n",
              "       [-0.64724137, -0.33183851, -0.34814854],\n",
              "       [-0.3929059 , -0.83912145, -0.48452362]])"
            ]
          },
          "metadata": {},
          "execution_count": 5
        }
      ]
    },
    {
      "cell_type": "markdown",
      "source": [
        "We will use this idea as a building block in our future work on neural networks"
      ],
      "metadata": {
        "id": "ytwDwzWQLUvX"
      }
    }
  ]
}