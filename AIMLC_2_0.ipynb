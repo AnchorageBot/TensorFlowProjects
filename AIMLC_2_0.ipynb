{
  "nbformat": 4,
  "nbformat_minor": 0,
  "metadata": {
    "colab": {
      "provenance": [],
      "authorship_tag": "ABX9TyMu0ldlYeO/t2a3RUejPZv1"
    },
    "kernelspec": {
      "name": "python3",
      "display_name": "Python 3"
    },
    "language_info": {
      "name": "python"
    }
  },
  "cells": [
    {
      "cell_type": "markdown",
      "source": [
        "2.0 Intro to Computer Vision\n",
        "\n",
        "References\n",
        "\n",
        ">[AI and Machine Learning for Coders - Laurence Moroney](https://www.oreilly.com/library/view/ai-and-machine/9781492078180/)\n",
        "\n",
        "> https://www.kaggle.com/datasets/zalando-research/fashionmnist\n",
        "\n",
        "\n",
        "IDE (Interactive Development Environment)\n",
        "\n",
        ">[Colab](https://colab.research.google.com)"
      ],
      "metadata": {
        "id": "Rw6NZBe5WRMm"
      }
    },
    {
      "cell_type": "markdown",
      "source": [
        "Our scripts will recognize items of clothing in an image using an approximation of a biological neural network\n",
        "\n",
        ">We will use the Fashion MNIST database for this work\n",
        "\n",
        "> * https://www.kaggle.com/datasets/zalando-research/fashionmnist\n",
        "\n",
        "> * https://pjreddie.com/projects/mnist-in-csv/\n",
        "\n",
        "> * https://github.com/zalandoresearch/fashion-\n",
        "\n",
        "> * https://engineering.zalando.com\n",
        "\n",
        "> The Fashion MNIST Dataset has the following characteristics\n",
        "\n",
        "> * 60,000 images in the training set\n",
        "\n",
        "> * 10,000 images in the test set\n",
        "\n",
        "> * Each image is associated with a label from 1 of 10 classes\n",
        "\n",
        "> * Column 1 is the class label\n",
        "\n",
        "> * Remaining columns are pixel numbers (784 total)\n",
        "\n",
        "> * Each image is 28 pixels high x 28 pixels wide = 784 pixels\n",
        "\n",
        "> * Each pixel is grey scale (darkness) and has an integer value range from 0 to 255\n"
      ],
      "metadata": {
        "id": "ASL-fYbmXYnV"
      }
    },
    {
      "cell_type": "markdown",
      "source": [
        "Let's take a look at a code snippet that trains a neural network on the Fashion MNIST dataset\n",
        "\n",
        "> The first line pulls the tensorflow library that we will be using\n",
        "\n",
        "> The second line pulls the dataset that we will be using from keras\n",
        "\n",
        "> The third line uses keras to split the dataset into two subsets along with labels for each image\n",
        "\n",
        "> The fourth and fith line normalize each image. This means scaling from an inital pixel value range of 0 to 255 down to a range of 0 to 1\n",
        "\n",
        "> * The process of normalization improves the performance of the neural network\n",
        "\n",
        "> The sixth line has multiple parts:\n",
        "\n",
        "> * Sequential is used to define the layers of the neural network\n",
        "\n",
        "> * Dense is a common layer type consisting of fully (densely) connected neurons\n",
        "\n",
        "> * We are using the Flatten method to crunch the 2 dimensional input array into a 1 dimensional array or line\n",
        "\n",
        "> * We are using a SWAG of 128 hidden nodes (neurons) and the relu activation function\n",
        "\n",
        "> * We are using 10 output layers (we have 10 different clothing labels - classes) and the softmax activation function\n",
        "\n",
        "> The seventh line also has multiple parts:\n",
        "\n",
        "> * The adam optimizer is an evolved version of the stochastic gradient descent optimizer\n",
        "\n",
        "> * the sparse_catagorical_crossentropy loss function is built into TensorFlow that is typically used for datasets with catagories (we have 10 different clothing labels - catagories - classes)\n",
        "\n",
        "> * the accuracy metric reports back on the accuracy of the neural network as it is trained\n",
        "\n",
        "> The eighth line fits the training images to the training labels over five epochs\n",
        "\n",
        "> * Each time a dataset passes through an algorithm, it is said to have completed an epoch\n",
        "\n",
        "> * Chosing the appropriate number of epochs is a judgement call - too many and the model overfits - too few and accuracy suffers\n",
        "\n",
        "> The ninth line evalutes the perfomance of the model on the test data (images). The model predicts which images are associated with each of the labels\n",
        "\n",
        "> * Typically test data accuracy is lower than training data - the neural network is learning"
      ],
      "metadata": {
        "id": "WxDBH6bCKiy1"
      }
    },
    {
      "cell_type": "code",
      "source": [
        "import tensorflow as tf\n",
        "\n",
        "data = tf.keras.datasets.fashion_mnist\n",
        "\n",
        "(training_images, training_labels), (test_images, test_labels) = data.load_data()\n",
        "\n",
        "training_images  = training_images / 255.0\n",
        "test_images = test_images / 255.0\n",
        "\n",
        "model = tf.keras.models.Sequential([\n",
        "            tf.keras.layers.Flatten(input_shape=(28, 28)),\n",
        "            tf.keras.layers.Dense(128, activation=tf.nn.relu),\n",
        "            tf.keras.layers.Dense(10, activation=tf.nn.softmax)\n",
        "        ])\n",
        "\n",
        "model.compile(optimizer='adam',\n",
        "              loss='sparse_categorical_crossentropy',\n",
        "              metrics=['accuracy'])\n",
        "\n",
        "model.fit(training_images, training_labels, epochs=5)\n",
        "\n",
        "model.evaluate(test_images, test_labels)\n",
        "\n",
        "# Moroney, Laurence. AI and Machine Learning for Coders (pp. 26-28). O'Reilly Media. Kindle Edition"
      ],
      "metadata": {
        "colab": {
          "base_uri": "https://localhost:8080/"
        },
        "id": "CE9Rvc8h76OF",
        "outputId": "8f22217c-4c34-49c6-ecae-0c452d8f2848"
      },
      "execution_count": null,
      "outputs": [
        {
          "output_type": "stream",
          "name": "stdout",
          "text": [
            "Epoch 1/5\n",
            "1875/1875 [==============================] - 8s 4ms/step - loss: 0.5015 - accuracy: 0.8233\n",
            "Epoch 2/5\n",
            "1875/1875 [==============================] - 9s 5ms/step - loss: 0.3794 - accuracy: 0.8630\n",
            "Epoch 3/5\n",
            "1875/1875 [==============================] - 6s 3ms/step - loss: 0.3374 - accuracy: 0.8767\n",
            "Epoch 4/5\n",
            "1875/1875 [==============================] - 7s 4ms/step - loss: 0.3151 - accuracy: 0.8840\n",
            "Epoch 5/5\n",
            "1875/1875 [==============================] - 6s 3ms/step - loss: 0.2965 - accuracy: 0.8906\n",
            "313/313 [==============================] - 1s 2ms/step - loss: 0.3711 - accuracy: 0.8686\n"
          ]
        },
        {
          "output_type": "execute_result",
          "data": {
            "text/plain": [
              "[0.3710651397705078, 0.8686000108718872]"
            ]
          },
          "metadata": {},
          "execution_count": 5
        }
      ]
    },
    {
      "cell_type": "markdown",
      "source": [
        "Let's explore the model output\n",
        "\n",
        "> Training and test images, from this dataset, are associated with the following labels\n",
        "\n",
        "> * 0 T-shirt/top\n",
        "\n",
        "> * 1 Trouser\n",
        "\n",
        "> * 2 Pullover\n",
        "\n",
        "> * 3 Dress\n",
        "\n",
        "> * 4 Coat\n",
        "\n",
        "> * 5 Sandal\n",
        "\n",
        "> * 6 Shirt\n",
        "\n",
        "> * 7 Sneaker\n",
        "\n",
        "> * 8 Bag\n",
        "\n",
        "> * 9 Ankle boot\n",
        "\n",
        "> This code snippet gives us back the values from the 10 output neurons (nodes)\n",
        "\n",
        "> * These values are the probabilities that the image matches the label at that particular index"
      ],
      "metadata": {
        "id": "g7dicjA0Ucen"
      }
    },
    {
      "cell_type": "code",
      "source": [
        "classifications = model.predict(test_images)\n",
        "print(classifications[0])\n",
        "print(test_labels[0])"
      ],
      "metadata": {
        "colab": {
          "base_uri": "https://localhost:8080/"
        },
        "id": "9Ww9Qa6QUf2k",
        "outputId": "ecb4ac72-282e-4a81-c800-11b76a9bf99b"
      },
      "execution_count": null,
      "outputs": [
        {
          "output_type": "stream",
          "name": "stdout",
          "text": [
            "313/313 [==============================] - 1s 2ms/step\n",
            "[2.0841138e-05 1.1692101e-07 7.7806112e-07 5.1445809e-08 1.7237892e-06\n",
            " 8.2627229e-02 2.3521095e-05 2.5002664e-01 9.0889516e-06 6.6728991e-01]\n",
            "9\n"
          ]
        }
      ]
    }
  ]
}