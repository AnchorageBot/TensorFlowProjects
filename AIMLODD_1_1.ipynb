{
  "nbformat": 4,
  "nbformat_minor": 0,
  "metadata": {
    "colab": {
      "provenance": [],
      "authorship_tag": "ABX9TyPoRqefh3XS/qaenMfOOUTb"
    },
    "kernelspec": {
      "name": "python3",
      "display_name": "Python 3"
    },
    "language_info": {
      "name": "python"
    }
  },
  "cells": [
    {
      "cell_type": "markdown",
      "source": [
        "# 1.1 Intro to AI and Machine Learning\n",
        "\n",
        "References\n",
        "\n",
        "> AI and Machine Learning for On Device Development - Laurence Moroney\n",
        "\n",
        "> * https://www.oreilly.com/library/view/ai-and-machine/9781098101732/\n",
        "\n",
        "> * https://github.com/lmoroney/odmlbook/tree/main/BookSource\n",
        "\n",
        "> Keras\n",
        "\n",
        "> * https://keras.io/\n",
        "\n",
        "> Numpy\n",
        "\n",
        "> * https://numpy.org/\n",
        "\n",
        "> Tensorflow\n",
        "\n",
        "> * https://www.tensorflow.org/\n",
        "\n",
        "\n",
        "IDE (Interactive Development Environment)\n",
        "\n",
        ">[Colab](https://colab.research.google.com)"
      ],
      "metadata": {
        "id": "Rw6NZBe5WRMm"
      }
    },
    {
      "cell_type": "markdown",
      "source": [
        "\n",
        "A straight line, somewhere in space, can be described by the linear equation y = W*x + B where\n",
        "\n",
        "> * (x, y) describes the location of a point on the line\n",
        "\n",
        "> * y = the point's value on the y-axis (up, down)\n",
        "\n",
        "> * W = the weight, slope of the line, or gradient (negative, positive)\n",
        "\n",
        "> * x = the point's value on the x-axis (left, right)\n",
        "\n",
        "> * B = the bias or y-intercept (the y coordinate of the line's intersection with the y-axis when x = 0)\n",
        "\n",
        "Our sample line includes the following points in space\n",
        "\n",
        "> * point 1 on the line is located at x = 2 and y = 3\n",
        "\n",
        "> * point 2 on the line is located at x = 3 and y = 5\n",
        "\n",
        "Traditional programming uses rules (y = W*x + B) and data (point coordinate values - x, y) to calculate answers (values for W, B)\n",
        "\n",
        "> rules + data + traditional programming = answers\n",
        "\n",
        "Machine learning uses answers (guesses - values for W, B) and data (point coordinate values - x, y) to determine rules (y = W*x + B)\n",
        "\n",
        "> answers + data + machine learning = rules\n",
        "\n",
        "> machine learning uses a loop to accomplish this\n",
        "\n",
        "> * guess the answer\n",
        "\n",
        "> * measure the accuracy of the guess\n",
        "\n",
        "> * optimize the guess\n",
        "\n"
      ],
      "metadata": {
        "id": "7S0Yg3W3TAfy"
      }
    },
    {
      "cell_type": "markdown",
      "source": [
        "So, let's look at a machine learning script where we provide the computer the answers (guess values for W, B) and data (point coordinate values - x, y) and have the computer figure out the  (y = W*x + B) for us, review some vocabulary, and then take the script apart line by line"
      ],
      "metadata": {
        "id": "y1iYwdDURS_d"
      }
    },
    {
      "cell_type": "code",
      "source": [
        "import tensorflow as tf\n",
        "import numpy as np\n",
        "from tensorflow.keras import Sequential\n",
        "from tensorflow.keras.layers import Dense\n",
        "\n",
        "l0 = Dense(units=1, input_shape=[1])\n",
        "model = Sequential([l0])\n",
        "model.compile(optimizer='sgd', loss='mean_squared_error')\n",
        "\n",
        "xs = np.array([-1.0, 0.0, 1.0, 2.0, 3.0, 4.0], dtype=float)\n",
        "ys = np.array([-3.0, -1.0, 1.0, 3.0, 5.0, 7.0], dtype=float)\n",
        "\n",
        "model.fit(xs, ys, epochs=500)\n",
        "\n",
        "print('Given an x value of 10 the y value is estimated as ', model.predict([10.0]))\n",
        "print(\"The W and B values are estimated as : {}\".format(l0.get_weights()))"
      ],
      "metadata": {
        "id": "EqfC1eBYSJ1G"
      },
      "execution_count": null,
      "outputs": []
    },
    {
      "cell_type": "markdown",
      "source": [
        "These lines import the python libraries that we need in order to run the script\n",
        "\n",
        "> tensorflow\n",
        "\n",
        "> * https://www.tensorflow.org/\n",
        "\n",
        "> numpy\n",
        "\n",
        "> * https://numpy.org/\n",
        "\n",
        "> keras\n",
        "\n",
        "> * A Sequential model is appropriate for a plain stack of layers where each layer has exactly one input tensor and one output tensor\n",
        "\n",
        "> * https://keras.io/guides/sequential_model/\n",
        "\n",
        "> * Just your regular densely-connected NN layer\n",
        "\n",
        "> * https://keras.io/api/layers/core_layers/dense/"
      ],
      "metadata": {
        "id": "OFzjdGRJhJnK"
      }
    },
    {
      "cell_type": "code",
      "source": [
        "import tensorflow as tf\n",
        "import numpy as np\n",
        "from tensorflow.keras import Sequential\n",
        "from tensorflow.keras.layers import Dense"
      ],
      "metadata": {
        "id": "AcRMlkbUhiHD"
      },
      "execution_count": null,
      "outputs": []
    },
    {
      "cell_type": "markdown",
      "source": [
        "This line uses the following agruments from the Keras API to create a neural network layer\n",
        "\n",
        "> * units: Positive integer, dimensionality of the output space\n",
        "\n",
        "> * N-D tensor with shape: (batch_size, ..., input_dim). The most common situation would be a 2D input with shape (batch_size, input_dim)."
      ],
      "metadata": {
        "id": "voc6hu0iiv_r"
      }
    },
    {
      "cell_type": "code",
      "source": [
        "l0 = Dense(units=1, input_shape=[1])"
      ],
      "metadata": {
        "id": "Il3D9ENvi2gA"
      },
      "execution_count": null,
      "outputs": []
    },
    {
      "cell_type": "markdown",
      "source": [
        "This line\n",
        "\n",
        "> uses the Keras API to create a Sequential model by passing a list of layers to the Sequential constructor\n",
        "\n",
        "> * a Sequential model is appropriate for a plain stack of layers where each layer has exactly one input tensor and one output tensor\n",
        "\n",
        "> tldr; this line defines the model"
      ],
      "metadata": {
        "id": "qEXL3STNlHlL"
      }
    },
    {
      "cell_type": "code",
      "source": [
        "model = Sequential([l0])"
      ],
      "metadata": {
        "id": "G7ySPGd3lGZO"
      },
      "execution_count": null,
      "outputs": []
    },
    {
      "cell_type": "markdown",
      "source": [
        "This line"
      ],
      "metadata": {
        "id": "K0nqfd2OnaeU"
      }
    },
    {
      "cell_type": "code",
      "source": [
        "model.compile(optimizer='sgd', loss='mean_squared_error')"
      ],
      "metadata": {
        "id": "hDlyae3HnjMX"
      },
      "execution_count": null,
      "outputs": []
    },
    {
      "cell_type": "markdown",
      "source": [
        "These lines define the data"
      ],
      "metadata": {
        "id": "y8CPRr9Yn1PP"
      }
    },
    {
      "cell_type": "code",
      "source": [
        "xs = np.array([-1.0, 0.0, 1.0, 2.0, 3.0, 4.0], dtype=float)\n",
        "ys = np.array([-3.0, -1.0, 1.0, 3.0, 5.0, 7.0], dtype=float)"
      ],
      "metadata": {
        "id": "jbLSV9x4n4ik"
      },
      "execution_count": null,
      "outputs": []
    },
    {
      "cell_type": "markdown",
      "source": [
        "This line"
      ],
      "metadata": {
        "id": "7RVSqTQSoCg4"
      }
    },
    {
      "cell_type": "code",
      "source": [
        "model.fit(xs, ys, epochs=500)"
      ],
      "metadata": {
        "id": "JCvzNRl_oHJe"
      },
      "execution_count": null,
      "outputs": []
    },
    {
      "cell_type": "markdown",
      "source": [
        "These lines"
      ],
      "metadata": {
        "id": "CR-bHOjDoIJd"
      }
    },
    {
      "cell_type": "code",
      "source": [
        "print('Given an x value of 10 the y value is estimated as ', model.predict([10.0]))\n",
        "print(\"The W and B values are estimated as : {}\".format(l0.get_weights())"
      ],
      "metadata": {
        "id": "XcltfYZfoM4q"
      },
      "execution_count": null,
      "outputs": []
    }
  ]
}