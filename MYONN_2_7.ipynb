{
  "nbformat": 4,
  "nbformat_minor": 0,
  "metadata": {
    "colab": {
      "provenance": [],
      "authorship_tag": "ABX9TyMF3Ik3wsVwYrSRALfEMOKd"
    },
    "kernelspec": {
      "name": "python3",
      "display_name": "Python 3"
    },
    "language_info": {
      "name": "python"
    }
  },
  "cells": [
    {
      "cell_type": "markdown",
      "source": [
        "2.7 Neural Network Class - MNIST Test (July 2023)\n",
        "\n",
        "We will give the neural network a handwritten number, that it has not seen before, to identify\n",
        "\n",
        "References\n",
        "\n",
        "> Make Your Own Neural Network by Tariq Rashid\n",
        "\n",
        "> https://github.com/makeyourownneuralnetwork\n",
        "\n",
        "> Matplotlib\n",
        "\n",
        "> https://matplotlib.org\n",
        "\n",
        "> Numpy\n",
        "\n",
        "> https://numpy.org\n",
        "\n",
        "> Pandas\n",
        "\n",
        "> https://pandas.pydata.org\n",
        "\n",
        "> Python\n",
        "\n",
        "> https://www.python.org\n",
        "\n",
        "> https://docs.python.org/3/library/csv.html\n",
        "\n",
        "> Scipy\n",
        "\n",
        "> https://scipy.org\n",
        "\n",
        "> Wikipedia\n",
        "\n",
        "> https://en.wikipedia.org/wiki/MNIST_database\n",
        "\n",
        "> https://en.wikipedia.org/wiki/Normalization_(image_processing)\n",
        "\n",
        "> https://en.wikipedia.org/wiki/Spatial_anti-aliasing\n",
        "\n",
        "IDE\n",
        "> Google Colab\n",
        "\n",
        "> https://colab.research.google.com\n"
      ],
      "metadata": {
        "id": "Ddz01PEZVIId"
      }
    },
    {
      "cell_type": "markdown",
      "source": [
        "\n",
        "\n",
        "A class is a reuseable blueprint for creating objects.\n",
        "\n",
        "Our draft class will simulate a biological neural network by having three parts that serve to:\n",
        "\n",
        "> initialize - set quantity of input, hidden, & output nodes\n",
        "\n",
        "> train - refine network weights by using training data\n",
        "\n",
        "> query - given input data, provide an answer from the output nodes"
      ],
      "metadata": {
        "id": "fW92NZRQFCN9"
      }
    },
    {
      "cell_type": "markdown",
      "source": [
        "Here is the draft class that we will use for recognizing hand-written numbers via neural network"
      ],
      "metadata": {
        "id": "g6_UBGC1orS-"
      }
    },
    {
      "cell_type": "code",
      "source": [
        "import numpy as np\n",
        "import scipy.special\n",
        "\n",
        "# draft class definition for a neural network\n",
        "class neuralNetwork:\n",
        "\n",
        "  # intialize the neural network\n",
        "  def __init__(self, inputNodes, hiddenNodes, outputNodes, learningRate):\n",
        "    # layers and learning rates\n",
        "    self.iNodes = inputNodes\n",
        "    self.hNodes = hiddenNodes\n",
        "    self.oNodes = outputNodes\n",
        "    self.learnRate = learningRate\n",
        "    # link weights connecting the layers via matrices\n",
        "    self.wih = np.random.normal(0.0, pow(self.iNodes, -0.5), (self.hNodes, self.iNodes))\n",
        "    self.who = np.random.normal(0.0, pow(self.hNodes, -0.5), (self.oNodes, self.hNodes))\n",
        "    # sigmoid activation function\n",
        "    self.activation_function = lambda x: scipy.special.expit(x)\n",
        "    pass\n",
        "\n",
        "  # train the neural network\n",
        "  def train(self, inputs_list, targets_list):\n",
        "    # convert the inputs list to a 2d array\n",
        "    inputs = np.array(inputs_list, ndmin = 2).T\n",
        "    # convert the targets list to a 2d array\n",
        "    targets = np.array(targets_list, ndmin = 2).T\n",
        "    # calculate signals into the hidden layer\n",
        "    hidden_inputs = np.dot(self.wih, inputs)\n",
        "    # calculate signals emerging from the hidden layer\n",
        "    hidden_outputs = self.activation_function(hidden_inputs)\n",
        "    # calculate signals into final output layer\n",
        "    final_inputs = np.dot(self.who, hidden_outputs)\n",
        "    # calculate signals emerging from the final output layer\n",
        "    final_outputs = self.activation_function(final_inputs)\n",
        "\n",
        "    # output layer error is (target - actual)\n",
        "    output_errors = targets - final_outputs\n",
        "    # hidden layer error\n",
        "    hidden_errors = np.dot(self.who.T, output_errors)\n",
        "    # update the link weights between hidden & output layers\n",
        "    self.who += self.learnRate * np.dot((output_errors * final_outputs *\n",
        "      (1.0 - final_outputs)), np.transpose(hidden_outputs))\n",
        "    # update the link weights between input & hidden layers\n",
        "    self.wih += self.learnRate * np.dot((hidden_errors * hidden_outputs *\n",
        "      (1.0 - hidden_outputs)), np.transpose(inputs))\n",
        "    pass\n",
        "\n",
        "  # query the neural network\n",
        "  def query(self, inputs_list):\n",
        "    # convert inputs list to 2d array\n",
        "    inputs = np.array(inputs_list, ndmin=2).T\n",
        "    # calculate signals into hidden layer\n",
        "    hidden_inputs = np.dot(self.wih, inputs)\n",
        "    # calculate the signals emerging from hidden layer\n",
        "    hidden_outputs = self.activation_function(hidden_inputs)\n",
        "    # calculate signals into final output layer\n",
        "    final_inputs = np.dot(self.who, hidden_outputs)\n",
        "    # calculate the signals emerging from final output layer\n",
        "    final_outputs = self.activation_function(final_inputs)\n",
        "    return final_outputs\n"
      ],
      "metadata": {
        "id": "6vH55BhO_t1y"
      },
      "execution_count": null,
      "outputs": []
    },
    {
      "cell_type": "markdown",
      "source": [
        "Here is test code for the class"
      ],
      "metadata": {
        "id": "gqeaLUtuDdGg"
      }
    },
    {
      "cell_type": "code",
      "source": [
        "# test\n",
        "inputNodes = 3\n",
        "hiddenNodes = 3\n",
        "outputNodes = 3\n",
        "learningRate = 0.3\n",
        "n = neuralNetwork(inputNodes, hiddenNodes, outputNodes, learningRate)\n",
        "n.query([1.0, 0.5, -1.5])"
      ],
      "metadata": {
        "colab": {
          "base_uri": "https://localhost:8080/"
        },
        "id": "K8d69MCkDaz9",
        "outputId": "6c6975da-67b6-442e-94b3-49afa4ed165c"
      },
      "execution_count": null,
      "outputs": [
        {
          "output_type": "execute_result",
          "data": {
            "text/plain": [
              "array([[0.48900539],\n",
              "       [0.60154223],\n",
              "       [0.72015492]])"
            ]
          },
          "metadata": {},
          "execution_count": 4
        }
      ]
    },
    {
      "cell_type": "markdown",
      "source": [
        "\n",
        "There is a collection of images of handwritten numbers used by artificial intelligence researchers as a popular set to test their latest ideas and algorithms.\n",
        "\n",
        "We will use it as well. The collection is broken up into two subsets:\n",
        "\n",
        "> http://www.pjreddie.com/media/files/mnist_train.csv\n",
        "\n",
        "> The training set​ is the set of 60,000​ labelled examples used to train the neural network. Labelled​ means the inputs come with the desired output, that is, what the answer should be.\n",
        "\n",
        "> http://www.pjreddie.com/media/files/mnist_test.csv\n",
        "\n",
        "> The smaller test set​ of 10,000​ is used to see how well our idea or algorithm works. This too contains the correct labels so we can check to see if our own neural network got the answer right or not."
      ],
      "metadata": {
        "id": "vKstFGcWH6nk"
      }
    },
    {
      "cell_type": "markdown",
      "source": [
        "We will start our experiments with subsets of the subsets\n",
        "\n",
        "> https://raw.githubusercontent.com/makeyourownneuralnetwork/makeyourownneuralnetwork/master/mnist_dataset/mnist_train_100.csv\n",
        "\n",
        "> 100 records from the training subset\n",
        "\n",
        "> https://raw.githubusercontent.com/makeyourownneuralnetwork/makeyourownneuralnetwork/master/mnist_dataset/mnist_test_10.csv\n",
        "\n",
        "\n",
        "> 10 records from the test subset"
      ],
      "metadata": {
        "id": "Vk8mMISOJKHD"
      }
    },
    {
      "cell_type": "markdown",
      "source": [
        "We will drag and drop the files we want from  our storage drive (we can use the desktop or the cloud for storage) into the goggle colab file icon (left side of the colab screen). We will need to repeat this process each time that we access the workbook/notebook\n",
        "\n",
        "> This process yields the following file paths:\n",
        "\n",
        "  > * content/mnist_test_10.csv\n",
        "\n",
        "  > * content/minist_train_100.csv"
      ],
      "metadata": {
        "id": "Oum19PzOxxXS"
      }
    },
    {
      "cell_type": "markdown",
      "source": [
        "Let's take a look at the test file"
      ],
      "metadata": {
        "id": "2sblEfT2qzWQ"
      }
    },
    {
      "cell_type": "code",
      "source": [
        "data_file = open('mnist_test_10.csv', 'r')\n",
        "data_list = data_file.readlines()\n",
        "data_file.close()\n",
        "\n",
        "len(data_list)\n",
        "\n",
        "data_list[0]\n",
        "\n",
        "#max(data_list[3])"
      ],
      "metadata": {
        "colab": {
          "base_uri": "https://localhost:8080/",
          "height": 120
        },
        "id": "G6FGvdPHqaA7",
        "outputId": "cdf60922-2d37-44b1-8e85-7b9dfd464885"
      },
      "execution_count": 5,
      "outputs": [
        {
          "output_type": "execute_result",
          "data": {
            "text/plain": [
              "'7,0,0,0,0,0,0,0,0,0,0,0,0,0,0,0,0,0,0,0,0,0,0,0,0,0,0,0,0,0,0,0,0,0,0,0,0,0,0,0,0,0,0,0,0,0,0,0,0,0,0,0,0,0,0,0,0,0,0,0,0,0,0,0,0,0,0,0,0,0,0,0,0,0,0,0,0,0,0,0,0,0,0,0,0,0,0,0,0,0,0,0,0,0,0,0,0,0,0,0,0,0,0,0,0,0,0,0,0,0,0,0,0,0,0,0,0,0,0,0,0,0,0,0,0,0,0,0,0,0,0,0,0,0,0,0,0,0,0,0,0,0,0,0,0,0,0,0,0,0,0,0,0,0,0,0,0,0,0,0,0,0,0,0,0,0,0,0,0,0,0,0,0,0,0,0,0,0,0,0,0,0,0,0,0,0,0,0,0,0,0,0,0,0,0,0,0,0,0,0,0,0,0,84,185,159,151,60,36,0,0,0,0,0,0,0,0,0,0,0,0,0,0,0,0,0,0,0,0,0,0,222,254,254,254,254,241,198,198,198,198,198,198,198,198,170,52,0,0,0,0,0,0,0,0,0,0,0,0,67,114,72,114,163,227,254,225,254,254,254,250,229,254,254,140,0,0,0,0,0,0,0,0,0,0,0,0,0,0,0,0,0,17,66,14,67,67,67,59,21,236,254,106,0,0,0,0,0,0,0,0,0,0,0,0,0,0,0,0,0,0,0,0,0,0,0,0,83,253,209,18,0,0,0,0,0,0,0,0,0,0,0,0,0,0,0,0,0,0,0,0,0,0,0,22,233,255,83,0,0,0,0,0,0,0,0,0,0,0,0,0,0,0,0,0,0,0,0,0,0,0,0,129,254,238,44,0,0,0,0,0,0,0,0,0,0,0,0,0,0,0,0,0,0,0,0,0,0,0,59,249,254,62,0,0,0,0,0,0,0,0,0,0,0,0,0,0,0,0,0,0,0,0,0,0,0,0,133,254,187,5,0,0,0,0,0,0,0,0,0,0,0,0,0,0,0,0,0,0,0,0,0,0,0,9,205,248,58,0,0,0,0,0,0,0,0,0,0,0,0,0,0,0,0,0,0,0,0,0,0,0,0,126,254,182,0,0,0,0,0,0,0,0,0,0,0,0,0,0,0,0,0,0,0,0,0,0,0,0,75,251,240,57,0,0,0,0,0,0,0,0,0,0,0,0,0,0,0,0,0,0,0,0,0,0,0,19,221,254,166,0,0,0,0,0,0,0,0,0,0,0,0,0,0,0,0,0,0,0,0,0,0,0,3,203,254,219,35,0,0,0,0,0,0,0,0,0,0,0,0,0,0,0,0,0,0,0,0,0,0,0,38,254,254,77,0,0,0,0,0,0,0,0,0,0,0,0,0,0,0,0,0,0,0,0,0,0,0,31,224,254,115,1,0,0,0,0,0,0,0,0,0,0,0,0,0,0,0,0,0,0,0,0,0,0,0,133,254,254,52,0,0,0,0,0,0,0,0,0,0,0,0,0,0,0,0,0,0,0,0,0,0,0,61,242,254,254,52,0,0,0,0,0,0,0,0,0,0,0,0,0,0,0,0,0,0,0,0,0,0,0,121,254,254,219,40,0,0,0,0,0,0,0,0,0,0,0,0,0,0,0,0,0,0,0,0,0,0,0,121,254,207,18,0,0,0,0,0,0,0,0,0,0,0,0,0,0,0,0,0,0,0,0,0,0,0,0,0,0,0,0,0,0,0,0,0,0,0,0,0,0,0,0,0,0\\n'"
            ],
            "application/vnd.google.colaboratory.intrinsic+json": {
              "type": "string"
            }
          },
          "metadata": {},
          "execution_count": 5
        }
      ]
    },
    {
      "cell_type": "markdown",
      "source": [
        "Let's take a look at one of the numbers in the test file\n",
        "\n",
        "> Remember that each pixel in this 28 x 28 pixel array has a different value ranging from 0 to 255.\n",
        "\n",
        "> Conceptually there is a grid of pixels overlaying a defined space (height, width) in which a number has been hand written.  Battleship, chess board, grid squares ... take your pick\n",
        "\n",
        "> First three lines of the code snippet serve to import the libraries that we will need to accomplish the task\n",
        "\n",
        "> Fourth line of code takes the first record from data_list[0] and splits the string by commas\n",
        "\n",
        "> Fifth line has several parts that will work on the all_values data\n",
        "\n",
        "  > * [1:] takes everything except for the first element of the list\n",
        "\n",
        "  > * numpy.asfarray() converts text strings into real numbers and creates an array of them\n",
        "\n",
        "  > * .reshape((28,28)) wraps the list of numbers around every 28 elements in order to make a square 28 by 28 matrix\n",
        "\n",
        "  > * the results of all of this work is a variable called image_array\n",
        "\n",
        "> Sixth line does the following\n",
        "\n",
        "  > *  plots the image_array using the imshow() function\n",
        "\n",
        "  > * uses a blue colour palette via the cmap='Blues'\n",
        "\n"
      ],
      "metadata": {
        "id": "-3ZmzRipsw9V"
      }
    },
    {
      "cell_type": "code",
      "source": [
        "import numpy as np\n",
        "import matplotlib.pyplot as plt\n",
        "%matplotlib inline\n",
        "\n",
        "all_values = data_list[0].split(',')\n",
        "image_array = np.asfarray(all_values[1:]).reshape(28,28)\n",
        "plt.imshow(image_array, cmap='Blues', interpolation='None')"
      ],
      "metadata": {
        "colab": {
          "base_uri": "https://localhost:8080/",
          "height": 447
        },
        "id": "nrC5bLJfs6ru",
        "outputId": "e168e023-df76-4773-c74c-7c9dd30bd7bb"
      },
      "execution_count": 6,
      "outputs": [
        {
          "output_type": "execute_result",
          "data": {
            "text/plain": [
              "<matplotlib.image.AxesImage at 0x7fdac3c41f00>"
            ]
          },
          "metadata": {},
          "execution_count": 6
        },
        {
          "output_type": "display_data",
          "data": {
            "text/plain": [
              "<Figure size 640x480 with 1 Axes>"
            ],
            "image/png": "[encoded data removed]"
          },
          "metadata": {}
        }
      ]
    },
    {
      "cell_type": "markdown",
      "source": [
        "Next we are going to work on prepping our data for processing by scaling it.\n",
        "\n",
        "> Pixel values range from 0 to 255\n",
        "\n",
        "> Neural networks work best with values that range from 0.01 to 0.99\n",
        "\n",
        "> * input values of 0.0 kill weight updates and are only approached by, but not reached by, the logistic function\n",
        "\n",
        "> * output values of 1.0 are only approached by, but not reached by, the logistic function"
      ],
      "metadata": {
        "id": "gC4rl5V47gTG"
      }
    },
    {
      "cell_type": "code",
      "source": [
        "scaled_input = (np.asfarray(all_values[1:])/255.0 * 0.99) + 0.01\n",
        "print(scaled_input)"
      ],
      "metadata": {
        "colab": {
          "base_uri": "https://localhost:8080/"
        },
        "id": "NPFphNet8hia",
        "outputId": "0eaf43f7-c733-48d5-ea68-3f8a3b6d30da"
      },
      "execution_count": 9,
      "outputs": [
        {
          "output_type": "stream",
          "name": "stdout",
          "text": [
            "[0.01       0.01       0.01       0.01       0.01       0.01\n",
            " 0.01       0.01       0.01       0.01       0.01       0.01\n",
            " 0.01       0.01       0.01       0.01       0.01       0.01\n",
            " 0.01       0.01       0.01       0.01       0.01       0.01\n",
            " 0.01       0.01       0.01       0.01       0.01       0.01\n",
            " 0.01       0.01       0.01       0.01       0.01       0.01\n",
            " 0.01       0.01       0.01       0.01       0.01       0.01\n",
            " 0.01       0.01       0.01       0.01       0.01       0.01\n",
            " 0.01       0.01       0.01       0.01       0.01       0.01\n",
            " 0.01       0.01       0.01       0.01       0.01       0.01\n",
            " 0.01       0.01       0.01       0.01       0.01       0.01\n",
            " 0.01       0.01       0.01       0.01       0.01       0.01\n",
            " 0.01       0.01       0.01       0.01       0.01       0.01\n",
            " 0.01       0.01       0.01       0.01       0.01       0.01\n",
            " 0.01       0.01       0.01       0.01       0.01       0.01\n",
            " 0.01       0.01       0.01       0.01       0.01       0.01\n",
            " 0.01       0.01       0.01       0.01       0.01       0.01\n",
            " 0.01       0.01       0.01       0.01       0.01       0.01\n",
            " 0.01       0.01       0.01       0.01       0.01       0.01\n",
            " 0.01       0.01       0.01       0.01       0.01       0.01\n",
            " 0.01       0.01       0.01       0.01       0.01       0.01\n",
            " 0.01       0.01       0.01       0.01       0.01       0.01\n",
            " 0.01       0.01       0.01       0.01       0.01       0.01\n",
            " 0.01       0.01       0.01       0.01       0.01       0.01\n",
            " 0.01       0.01       0.01       0.01       0.01       0.01\n",
            " 0.01       0.01       0.01       0.01       0.01       0.01\n",
            " 0.01       0.01       0.01       0.01       0.01       0.01\n",
            " 0.01       0.01       0.01       0.01       0.01       0.01\n",
            " 0.01       0.01       0.01       0.01       0.01       0.01\n",
            " 0.01       0.01       0.01       0.01       0.01       0.01\n",
            " 0.01       0.01       0.01       0.01       0.01       0.01\n",
            " 0.01       0.01       0.01       0.01       0.01       0.01\n",
            " 0.01       0.01       0.01       0.01       0.01       0.01\n",
            " 0.01       0.01       0.01       0.01       0.33611765 0.72823529\n",
            " 0.62729412 0.59623529 0.24294118 0.14976471 0.01       0.01\n",
            " 0.01       0.01       0.01       0.01       0.01       0.01\n",
            " 0.01       0.01       0.01       0.01       0.01       0.01\n",
            " 0.01       0.01       0.01       0.01       0.01       0.01\n",
            " 0.01       0.01       0.87188235 0.99611765 0.99611765 0.99611765\n",
            " 0.99611765 0.94564706 0.77870588 0.77870588 0.77870588 0.77870588\n",
            " 0.77870588 0.77870588 0.77870588 0.77870588 0.67       0.21188235\n",
            " 0.01       0.01       0.01       0.01       0.01       0.01\n",
            " 0.01       0.01       0.01       0.01       0.01       0.01\n",
            " 0.27011765 0.45258824 0.28952941 0.45258824 0.64282353 0.89129412\n",
            " 0.99611765 0.88352941 0.99611765 0.99611765 0.99611765 0.98058824\n",
            " 0.89905882 0.99611765 0.99611765 0.55352941 0.01       0.01\n",
            " 0.01       0.01       0.01       0.01       0.01       0.01\n",
            " 0.01       0.01       0.01       0.01       0.01       0.01\n",
            " 0.01       0.01       0.01       0.076      0.26623529 0.06435294\n",
            " 0.27011765 0.27011765 0.27011765 0.23905882 0.09152941 0.92623529\n",
            " 0.99611765 0.42152941 0.01       0.01       0.01       0.01\n",
            " 0.01       0.01       0.01       0.01       0.01       0.01\n",
            " 0.01       0.01       0.01       0.01       0.01       0.01\n",
            " 0.01       0.01       0.01       0.01       0.01       0.01\n",
            " 0.01       0.01       0.33223529 0.99223529 0.82141176 0.07988235\n",
            " 0.01       0.01       0.01       0.01       0.01       0.01\n",
            " 0.01       0.01       0.01       0.01       0.01       0.01\n",
            " 0.01       0.01       0.01       0.01       0.01       0.01\n",
            " 0.01       0.01       0.01       0.01       0.01       0.09541176\n",
            " 0.91458824 1.         0.33223529 0.01       0.01       0.01\n",
            " 0.01       0.01       0.01       0.01       0.01       0.01\n",
            " 0.01       0.01       0.01       0.01       0.01       0.01\n",
            " 0.01       0.01       0.01       0.01       0.01       0.01\n",
            " 0.01       0.01       0.01       0.51082353 0.99611765 0.934\n",
            " 0.18082353 0.01       0.01       0.01       0.01       0.01\n",
            " 0.01       0.01       0.01       0.01       0.01       0.01\n",
            " 0.01       0.01       0.01       0.01       0.01       0.01\n",
            " 0.01       0.01       0.01       0.01       0.01       0.01\n",
            " 0.23905882 0.97670588 0.99611765 0.25070588 0.01       0.01\n",
            " 0.01       0.01       0.01       0.01       0.01       0.01\n",
            " 0.01       0.01       0.01       0.01       0.01       0.01\n",
            " 0.01       0.01       0.01       0.01       0.01       0.01\n",
            " 0.01       0.01       0.01       0.01       0.52635294 0.99611765\n",
            " 0.736      0.02941176 0.01       0.01       0.01       0.01\n",
            " 0.01       0.01       0.01       0.01       0.01       0.01\n",
            " 0.01       0.01       0.01       0.01       0.01       0.01\n",
            " 0.01       0.01       0.01       0.01       0.01       0.01\n",
            " 0.01       0.04494118 0.80588235 0.97282353 0.23517647 0.01\n",
            " 0.01       0.01       0.01       0.01       0.01       0.01\n",
            " 0.01       0.01       0.01       0.01       0.01       0.01\n",
            " 0.01       0.01       0.01       0.01       0.01       0.01\n",
            " 0.01       0.01       0.01       0.01       0.01       0.49917647\n",
            " 0.99611765 0.71658824 0.01       0.01       0.01       0.01\n",
            " 0.01       0.01       0.01       0.01       0.01       0.01\n",
            " 0.01       0.01       0.01       0.01       0.01       0.01\n",
            " 0.01       0.01       0.01       0.01       0.01       0.01\n",
            " 0.01       0.01       0.30117647 0.98447059 0.94176471 0.23129412\n",
            " 0.01       0.01       0.01       0.01       0.01       0.01\n",
            " 0.01       0.01       0.01       0.01       0.01       0.01\n",
            " 0.01       0.01       0.01       0.01       0.01       0.01\n",
            " 0.01       0.01       0.01       0.01       0.01       0.08376471\n",
            " 0.868      0.99611765 0.65447059 0.01       0.01       0.01\n",
            " 0.01       0.01       0.01       0.01       0.01       0.01\n",
            " 0.01       0.01       0.01       0.01       0.01       0.01\n",
            " 0.01       0.01       0.01       0.01       0.01       0.01\n",
            " 0.01       0.01       0.02164706 0.79811765 0.99611765 0.86023529\n",
            " 0.14588235 0.01       0.01       0.01       0.01       0.01\n",
            " 0.01       0.01       0.01       0.01       0.01       0.01\n",
            " 0.01       0.01       0.01       0.01       0.01       0.01\n",
            " 0.01       0.01       0.01       0.01       0.01       0.01\n",
            " 0.15752941 0.99611765 0.99611765 0.30894118 0.01       0.01\n",
            " 0.01       0.01       0.01       0.01       0.01       0.01\n",
            " 0.01       0.01       0.01       0.01       0.01       0.01\n",
            " 0.01       0.01       0.01       0.01       0.01       0.01\n",
            " 0.01       0.01       0.01       0.13035294 0.87964706 0.99611765\n",
            " 0.45647059 0.01388235 0.01       0.01       0.01       0.01\n",
            " 0.01       0.01       0.01       0.01       0.01       0.01\n",
            " 0.01       0.01       0.01       0.01       0.01       0.01\n",
            " 0.01       0.01       0.01       0.01       0.01       0.01\n",
            " 0.01       0.52635294 0.99611765 0.99611765 0.21188235 0.01\n",
            " 0.01       0.01       0.01       0.01       0.01       0.01\n",
            " 0.01       0.01       0.01       0.01       0.01       0.01\n",
            " 0.01       0.01       0.01       0.01       0.01       0.01\n",
            " 0.01       0.01       0.01       0.01       0.24682353 0.94952941\n",
            " 0.99611765 0.99611765 0.21188235 0.01       0.01       0.01\n",
            " 0.01       0.01       0.01       0.01       0.01       0.01\n",
            " 0.01       0.01       0.01       0.01       0.01       0.01\n",
            " 0.01       0.01       0.01       0.01       0.01       0.01\n",
            " 0.01       0.01       0.47976471 0.99611765 0.99611765 0.86023529\n",
            " 0.16529412 0.01       0.01       0.01       0.01       0.01\n",
            " 0.01       0.01       0.01       0.01       0.01       0.01\n",
            " 0.01       0.01       0.01       0.01       0.01       0.01\n",
            " 0.01       0.01       0.01       0.01       0.01       0.01\n",
            " 0.47976471 0.99611765 0.81364706 0.07988235 0.01       0.01\n",
            " 0.01       0.01       0.01       0.01       0.01       0.01\n",
            " 0.01       0.01       0.01       0.01       0.01       0.01\n",
            " 0.01       0.01       0.01       0.01       0.01       0.01\n",
            " 0.01       0.01       0.01       0.01       0.01       0.01\n",
            " 0.01       0.01       0.01       0.01       0.01       0.01\n",
            " 0.01       0.01       0.01       0.01       0.01       0.01\n",
            " 0.01       0.01       0.01       0.01      ]\n"
          ]
        }
      ]
    },
    {
      "cell_type": "markdown",
      "source": [
        "Our goal is for the neural network to classify the data (images) and assign the correct label. This means that:\n",
        "\n",
        "> Each label will be one of ten numbers ranging from 0 to 9\n",
        "\n",
        "> The labels will use target arrays\n",
        "\n",
        "> We will use ten nodes, one for each number\n",
        "\n",
        "We will use a four line code snippet to take a look at how this works\n",
        "\n",
        "> the first line sets the number of output nodes to 10\n",
        "\n",
        "> the second line uses the .zero function to create an array filled with zeros and adds the value 0.01 to account for the logistic function's aversion to 0.0\n",
        "\n",
        "> the third line takes the first element of the MNIST dataset, which is the training label, and converts the string into an integer. We do this because we read the record from the source file as a text string. We next add 0.99 to account for the logistic function's aversion to 1.0"
      ],
      "metadata": {
        "id": "GU12dnJs_VmC"
      }
    },
    {
      "cell_type": "code",
      "source": [
        "# 10 output node example\n",
        "\n",
        "outNodes = 10\n",
        "targets = np.zeros(outNodes) + 0.01\n",
        "targets[int(all_values[0])] = 0.99\n",
        "\n",
        "print(targets)"
      ],
      "metadata": {
        "colab": {
          "base_uri": "https://localhost:8080/"
        },
        "id": "8OC5kJCDAh-q",
        "outputId": "a7470841-0bb8-4f7e-f950-a92c3809f6cb"
      },
      "execution_count": 12,
      "outputs": [
        {
          "output_type": "stream",
          "name": "stdout",
          "text": [
            "[0.01 0.01 0.01 0.01 0.01 0.01 0.01 0.99 0.01 0.01]\n"
          ]
        }
      ]
    },
    {
      "cell_type": "markdown",
      "source": [
        "Next we will scale up our work to account for the 28 x 28 = 784 pixel system that we are using"
      ],
      "metadata": {
        "id": "US-lnADJDivX"
      }
    },
    {
      "cell_type": "code",
      "source": [
        "# code to prep and input data into the neural network for training\n",
        "\n",
        "# define the inputs needed to talk to the neural network class\n",
        "inputNodes = 784\n",
        "hiddenNodes = 100\n",
        "outputNodes = 10\n",
        "learningRate = 0.3\n",
        "n = neuralNetwork(inputNodes, hiddenNodes, outputNodes, learningRate)\n",
        "\n",
        "# load the MNIST training data csv file into a list\n",
        "training_data_file = open('mnist_dataset/mnist_train_100.csv', 'r')\n",
        "training_data_list = training_data_file.readlines()\n",
        "training_data_file.close()\n",
        "\n",
        "# go through all records in the training data set\n",
        "for record in training_data_list:\n",
        "  # split the record by the ',' commas\n",
        "  all_values = record.split(',')\n",
        "  # scale and shift the inputs\n",
        "  inputs = (np.asfarray(all_values[1:])/255.0 * 0.99) + 0.01)\n",
        "  # create the target output values (all 0.01, except for the desired label which is 0.99)\n",
        "  targets_784 = np.zeros(outputNodes) + 0.01\n",
        "  # all_values[0] is the target label for this record\n",
        "  targets_784[int(all_values[0])] = 0.99\n",
        "  n.train(inputs, targets)\n",
        "  pass"
      ],
      "metadata": {
        "id": "qIeWg2fOEAqS"
      },
      "execution_count": null,
      "outputs": []
    },
    {
      "cell_type": "markdown",
      "source": [
        "Let's update the class with this work"
      ],
      "metadata": {
        "id": "G0-YTq6FIr9F"
      }
    },
    {
      "cell_type": "code",
      "source": [
        "import numpy as np\n",
        "\n",
        "import scipy.special\n",
        "\n",
        "import matplotlib.pyplot as plt\n",
        "%matplotlib inline\n",
        "\n",
        "# draft class definition for a neural network\n",
        "class neuralNetwork:\n",
        "\n",
        "  # intialize the neural network\n",
        "  def __init__(self, inputNodes, hiddenNodes, outputNodes, learningRate):\n",
        "    # layers and learning rates\n",
        "    self.iNodes = inputNodes\n",
        "    self.hNodes = hiddenNodes\n",
        "    self.oNodes = outputNodes\n",
        "    self.learnRate = learningRate\n",
        "    # link weights connecting the layers via matrices\n",
        "    self.wih = np.random.normal(0.0, pow(self.iNodes, -0.5), (self.hNodes, self.iNodes))\n",
        "    self.who = np.random.normal(0.0, pow(self.hNodes, -0.5), (self.oNodes, self.hNodes))\n",
        "    # sigmoid activation function\n",
        "    self.activation_function = lambda x: scipy.special.expit(x)\n",
        "    pass\n",
        "\n",
        "  # train the neural network\n",
        "  def train(self, inputs_list, targets_list):\n",
        "    # convert the inputs list to a 2d array\n",
        "    inputs = np.array(inputs_list, ndmin = 2).T\n",
        "    # convert the targets list to a 2d array\n",
        "    targets = np.array(targets_list, ndmin = 2).T\n",
        "    # calculate signals into the hidden layer\n",
        "    hidden_inputs = np.dot(self.wih, inputs)\n",
        "    # calculate signals emerging from the hidden layer\n",
        "    hidden_outputs = self.activation_function(hidden_inputs)\n",
        "    # calculate signals into final output layer\n",
        "    final_inputs = np.dot(self.who, hidden_outputs)\n",
        "    # calculate signals emerging from the final output layer\n",
        "    final_outputs = self.activation_function(final_inputs)\n",
        "\n",
        "    # output layer error is (target - actual)\n",
        "    output_errors = targets - final_outputs\n",
        "    # hidden layer error\n",
        "    hidden_errors = np.dot(self.who.T, output_errors)\n",
        "    # update the link weights between hidden & output layers\n",
        "    self.who += self.learnRate * np.dot((output_errors * final_outputs *\n",
        "      (1.0 - final_outputs)), np.transpose(hidden_outputs))\n",
        "    # update the link weights between input & hidden layers\n",
        "    self.wih += self.learnRate * np.dot((hidden_errors * hidden_outputs *\n",
        "      (1.0 - hidden_outputs)), np.transpose(inputs))\n",
        "    pass\n",
        "\n",
        "  # query the neural network\n",
        "  def query(self, inputs_list):\n",
        "    # convert inputs list to 2d array\n",
        "    inputs = np.array(inputs_list, ndmin=2).T\n",
        "    # calculate signals into hidden layer\n",
        "    hidden_inputs = np.dot(self.wih, inputs)\n",
        "    # calculate the signals emerging from hidden layer\n",
        "    hidden_outputs = self.activation_function(hidden_inputs)\n",
        "    # calculate signals into final output layer\n",
        "    final_inputs = np.dot(self.who, hidden_outputs)\n",
        "    # calculate the signals emerging from final output layer\n",
        "    final_outputs = self.activation_function(final_inputs)\n",
        "    return final_outputs\n",
        "\n",
        "# code to prep and input data into the neural network for training\n",
        "\n",
        "# define the inputs needed to talk to the neural network class\n",
        "inputNodes = 784\n",
        "hiddenNodes = 100\n",
        "outputNodes = 10\n",
        "learningRate = 0.3\n",
        "n = neuralNetwork(inputNodes, hiddenNodes, outputNodes, learningRate)\n",
        "\n",
        "# load the MNIST training data csv file into a list\n",
        "training_data_file = open('mnist_train_100.csv', 'r')\n",
        "training_data_list = training_data_file.readlines()\n",
        "training_data_file.close()\n",
        "\n",
        "# go through all records in the training data set\n",
        "for record in training_data_list:\n",
        "  # split the record by the ',' commas\n",
        "  all_values = record.split(',')\n",
        "  # scale and shift the inputs\n",
        "  inputs = (np.asfarray(all_values[1:])/255.0 * 0.99) + 0.01\n",
        "  # create the target output values (all 0.01, except for the desired label which is 0.99)\n",
        "  targets_784 = np.zeros(outputNodes) + 0.01\n",
        "  # all_values[0] is the target label for this record\n",
        "  targets_784[int(all_values[0])] = 0.99\n",
        "  n.train(inputs, targets)\n",
        "  pass"
      ],
      "metadata": {
        "id": "lRQTEtQ-I8xi"
      },
      "execution_count": 24,
      "outputs": []
    },
    {
      "cell_type": "markdown",
      "source": [
        "Let's build and run a test of the network"
      ],
      "metadata": {
        "id": "Gp_dW9yDJNJs"
      }
    },
    {
      "cell_type": "code",
      "source": [
        "# load the MNIST test data csv file into a list\n",
        "test_data_file = open('mnist_test_10.csv', )\n",
        "test_data_list = test_data_file.readlines()\n",
        "test_data_file.close()\n",
        "\n",
        "# get the first test record\n",
        "all_values = test_data_list[0].split(',')\n",
        "# print the label\n",
        "print('the data label is ', all_values[0], '\\n')\n",
        "# plot the image\n",
        "image_array = np.asfarray(all_values[1:]).reshape((28,28))\n",
        "plt.imshow(image_array, cmap='Blues', interpolation='None')\n",
        "# show the outputs from each of the ten nodes\n",
        "print('the array values are: \\n')\n",
        "print(n.query((np.asfarray(all_values[1:])/255.0 * 0.99 +0.01)))\n",
        "print('\\n the handwritten image is \\n')"
      ],
      "metadata": {
        "colab": {
          "base_uri": "https://localhost:8080/",
          "height": 719
        },
        "id": "R4uSkMOtJSJ8",
        "outputId": "69b69e7b-ffca-4c7f-8dbf-3ed57be93da8"
      },
      "execution_count": 37,
      "outputs": [
        {
          "output_type": "stream",
          "name": "stdout",
          "text": [
            "the data label is  7 \n",
            "\n",
            "the array values are: \n",
            "\n",
            "[[0.02298638]\n",
            " [0.0223923 ]\n",
            " [0.02283003]\n",
            " [0.02210305]\n",
            " [0.02176126]\n",
            " [0.02105039]\n",
            " [0.02214755]\n",
            " [0.9808243 ]\n",
            " [0.02179456]\n",
            " [0.02258272]]\n",
            "\n",
            " the handwritten image is \n",
            "\n"
          ]
        },
        {
          "output_type": "display_data",
          "data": {
            "text/plain": [
              "<Figure size 640x480 with 1 Axes>"
            ],
            "image/png": "[encoded data removed]"
          },
          "metadata": {}
        }
      ]
    }
  ]
}