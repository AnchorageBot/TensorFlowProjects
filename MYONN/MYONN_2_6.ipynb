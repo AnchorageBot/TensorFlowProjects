{
  "nbformat": 4,
  "nbformat_minor": 0,
  "metadata": {
    "colab": {
      "provenance": [],
      "authorship_tag": "ABX9TyPjpETaKDJpmDNUnhEEhkEu"
    },
    "kernelspec": {
      "name": "python3",
      "display_name": "Python 3"
    },
    "language_info": {
      "name": "python"
    }
  },
  "cells": [
    {
      "cell_type": "markdown",
      "source": [
        "2.6 Neural Network Class - MNIST Intro (July 2023)\n",
        "\n",
        "References\n",
        "\n",
        "> Make Your Own Neural Network by Tariq Rashid\n",
        "\n",
        "> https://github.com/makeyourownneuralnetwork\n",
        "\n",
        "> Numpy\n",
        "\n",
        "> https://numpy.org\n",
        "\n",
        "> Python\n",
        "\n",
        "> https://www.python.org\n",
        "\n",
        "> Scipy\n",
        "\n",
        "> https://scipy.org\n",
        "\n",
        "> Wikipedia\n",
        "\n",
        "> https://en.wikipedia.org/wiki/MNIST_database\n",
        "\n",
        "> https://en.wikipedia.org/wiki/Normalization_(image_processing)\n",
        "\n",
        "> https://en.wikipedia.org/wiki/Spatial_anti-aliasing\n",
        "\n",
        "IDE\n",
        "> Google Colab\n",
        "\n",
        "> https://colab.research.google.com\n"
      ],
      "metadata": {
        "id": "Ddz01PEZVIId"
      }
    },
    {
      "cell_type": "markdown",
      "source": [
        "\n",
        "\n",
        "A class is a reuseable blueprint for creating objects.\n",
        "\n",
        "Our draft class will simulate a biological neural network by having three parts that serve to:\n",
        "\n",
        "> initialize - set quantity of input, hidden, & output nodes\n",
        "\n",
        "> train - refine network weights by using training data\n",
        "\n",
        "> query - given input data, provide an answer from the output nodes"
      ],
      "metadata": {
        "id": "fW92NZRQFCN9"
      }
    },
    {
      "cell_type": "markdown",
      "source": [
        "Here is our final draft, which serves as our starting point for this worksheet"
      ],
      "metadata": {
        "id": "g6_UBGC1orS-"
      }
    },
    {
      "cell_type": "code",
      "source": [
        "import numpy as np\n",
        "import scipy.special\n",
        "\n",
        "# draft class definition for a neural network\n",
        "class neuralNetwork:\n",
        "\n",
        "  # intialize the neural network\n",
        "  def __init__(self, inputNodes, hiddenNodes, outputNodes, learningRate):\n",
        "    # layers and learning rates\n",
        "    self.iNodes = inputNodes\n",
        "    self.hNodes = hiddenNodes\n",
        "    self.oNodes = outputNodes\n",
        "    self.learnRate = learningRate\n",
        "    # link weights connecting the layers via matrices\n",
        "    self.wih = np.random.normal(0.0, pow(self.iNodes, -0.5), (self.hNodes, self.iNodes))\n",
        "    self.who = np.random.normal(0.0, pow(self.hNodes, -0.5), (self.oNodes, self.hNodes))\n",
        "    # sigmoid activation function\n",
        "    self.activation_function = lambda x: scipy.special.expit(x)\n",
        "    pass\n",
        "\n",
        "  # train the neural network\n",
        "  def train(self, inputs_list, targets_list):\n",
        "    # convert the inputs list to a 2d array\n",
        "    inputs = np.array(inputs_list, ndmin = 2).T\n",
        "    # convert the targets list to a 2d array\n",
        "    targets = np.array(targets_list, ndmin = 2).T\n",
        "    # calculate signals into the hidden layer\n",
        "    hidden_inputs = np.dot(self.wih, inputs)\n",
        "    # calculate signals emerging from the hidden layer\n",
        "    hidden_outputs = self.activation_function(hidden_inputs)\n",
        "    # calculate signals into final output layer\n",
        "    final_inputs = np.dot(self.who, hidden_outputs)\n",
        "    # calculate signals emerging from the final output layer\n",
        "    final_outputs = self.activation_function(final_inputs)\n",
        "\n",
        "    # output layer error is (target - actual)\n",
        "    output_errors = targets - final_outputs\n",
        "    # hidden layer error\n",
        "    hidden_errors = np.dot(self.who.T, output_errors)\n",
        "    # update the link weights between hidden & output layers\n",
        "    self.who += self.learnRate * np.dot((output_errors * final_outputs *\n",
        "      (1.0 - final_outputs)), np.transpose(hidden_outputs))\n",
        "    # update the link weights between input & hidden layers\n",
        "    self.wih += self.learnRate * np.dot((hidden_errors * hidden_outputs *\n",
        "      (1.0 - hidden_outputs)), np.transpose(inputs))\n",
        "\n",
        "  # query the neural network\n",
        "  def query(self, inputs_list):\n",
        "    # convert inputs list to 2d array\n",
        "    inputs = np.array(inputs_list, ndmin=2).T\n",
        "    # calculate signals into hidden layer\n",
        "    hidden_inputs = np.dot(self.wih, inputs)\n",
        "    # calculate the signals emerging from hidden layer\n",
        "    hidden_outputs = self.activation_function(hidden_inputs)\n",
        "    # calculate signals into final output layer\n",
        "    final_inputs = np.dot(self.who, hidden_outputs)\n",
        "    # calculate the signals emerging from final output layer\n",
        "    final_outputs = self.activation_function(final_inputs)\n",
        "    return final_outputs\n"
      ],
      "metadata": {
        "id": "6vH55BhO_t1y"
      },
      "execution_count": null,
      "outputs": []
    },
    {
      "cell_type": "markdown",
      "source": [
        "Here is test code for the class"
      ],
      "metadata": {
        "id": "gqeaLUtuDdGg"
      }
    },
    {
      "cell_type": "code",
      "source": [
        "# test\n",
        "inputNodes = 3\n",
        "hiddenNodes = 3\n",
        "outputNodes = 3\n",
        "learningRate = 0.3\n",
        "n = neuralNetwork(inputNodes, hiddenNodes, outputNodes, learningRate)\n",
        "n.query([1.0, 0.5, -1.5])"
      ],
      "metadata": {
        "colab": {
          "base_uri": "https://localhost:8080/"
        },
        "id": "K8d69MCkDaz9",
        "outputId": "6c6975da-67b6-442e-94b3-49afa4ed165c"
      },
      "execution_count": null,
      "outputs": [
        {
          "output_type": "execute_result",
          "data": {
            "text/plain": [
              "array([[0.48900539],\n",
              "       [0.60154223],\n",
              "       [0.72015492]])"
            ]
          },
          "metadata": {},
          "execution_count": 4
        }
      ]
    },
    {
      "cell_type": "markdown",
      "source": [
        "Getting computers to correctly classify what an image contains, sometimes called the image recognition​ problem, has withstood decades of attack. Only recently has good progress been made, and methods like neural networks have been a crucial part of these leaps forward.\n",
        "\n",
        "There is a collection of images of handwritten numbers used by artificial intelligence researchers as a popular set to test their latest ideas and algorithms. It is broken up into two subsets:\n",
        "\n",
        "> http://www.pjreddie.com/media/files/mnist_train.csv\n",
        "\n",
        "> The training set​ is the set of 60,000​ labelled examples used to train the neural network. Labelled​ means the inputs come with the desired output, that is, what the answer should be.\n",
        "\n",
        "> http://www.pjreddie.com/media/files/mnist_test.csv\n",
        "\n",
        "> The smaller test set​ of 10,000​ is used to see how well our idea or algorithm works. This too contains the correct labels so we can check to see if our own neural network got the answer right or not."
      ],
      "metadata": {
        "id": "vKstFGcWH6nk"
      }
    },
    {
      "cell_type": "markdown",
      "source": [
        "We will start our experiments with subsets of the subsets\n",
        "\n",
        "> https://raw.githubusercontent.com/makeyourownneuralnetwork/makeyourownneuralnetwork/master/mnist_dataset/mnist_train_100.csv\n",
        "\n",
        "> 100 records from the training subset\n",
        "\n",
        "> https://raw.githubusercontent.com/makeyourownneuralnetwork/makeyourownneuralnetwork/master/mnist_dataset/mnist_test_10.csv\n",
        "\n",
        "\n",
        "> 10 records from the test subset"
      ],
      "metadata": {
        "id": "Vk8mMISOJKHD"
      }
    },
    {
      "cell_type": "markdown",
      "source": [
        "Next we will work on importing these data files into colab.\n",
        "\n",
        "We can use the code provided for this task in colab's code snippets"
      ],
      "metadata": {
        "id": "LUyEDxkcu5j-"
      }
    },
    {
      "cell_type": "code",
      "source": [
        "# Import PyDrive and associated libraries.\n",
        "# This only needs to be done once per notebook.\n",
        "from pydrive.auth import GoogleAuth\n",
        "from pydrive.drive import GoogleDrive\n",
        "from google.colab import auth\n",
        "from oauth2client.client import GoogleCredentials\n",
        "\n",
        "# Authenticate and create the PyDrive client.\n",
        "# This only needs to be done once per notebook.\n",
        "auth.authenticate_user()\n",
        "gauth = GoogleAuth()\n",
        "gauth.credentials = GoogleCredentials.get_application_default()\n",
        "drive = GoogleDrive(gauth)\n",
        "\n",
        "# Download a file based on its file ID.\n",
        "#\n",
        "# A file ID looks like: laggVyWshwcyP6kEI-y_W3P8D26sz\n",
        "file_id = 'REPLACE_WITH_YOUR_FILE_ID'\n",
        "downloaded = drive.CreateFile({'id': file_id})\n",
        "print('Downloaded content \"{}\"'.format(downloaded.GetContentString()))"
      ],
      "metadata": {
        "id": "ig04YOA-vAI0"
      },
      "execution_count": null,
      "outputs": []
    },
    {
      "cell_type": "markdown",
      "source": [
        "We can also touch the Google Drive icon located on the files panel (left side of our screen)"
      ],
      "metadata": {
        "id": "tBJwpHxVwRpB"
      }
    },
    {
      "cell_type": "code",
      "source": [
        "from google.colab import drive\n",
        "drive.mount('/content/drive')"
      ],
      "metadata": {
        "id": "n1v7vsYpvu9m"
      },
      "execution_count": null,
      "outputs": []
    },
    {
      "cell_type": "markdown",
      "source": [
        "The other option available to us is to drag and drop the files we want from google drive into the file icon (left side of the colab screen). This will require refrshing each time we access the workbook/notebook\n",
        "\n",
        "> I am using the following customized google colab file path content/MYONN_Data to save the data that we downloaded\n",
        "\n",
        "> Next step is drag and drop the file into the google colab folder icon (left side of the screen)"
      ],
      "metadata": {
        "id": "Oum19PzOxxXS"
      }
    },
    {
      "cell_type": "markdown",
      "source": [
        "Let's access the test file"
      ],
      "metadata": {
        "id": "C_O_Sv7d3XiX"
      }
    },
    {
      "cell_type": "code",
      "source": [
        "test_list = 'mnist_test_10.csv'\n",
        "print(len(test_list))\n",
        "print(test_list)"
      ],
      "metadata": {
        "id": "OMLcb9uv9Eut"
      },
      "execution_count": null,
      "outputs": []
    },
    {
      "cell_type": "markdown",
      "source": [
        "Let's access the training file"
      ],
      "metadata": {
        "id": "72RiBimF9fU5"
      }
    },
    {
      "cell_type": "code",
      "source": [
        "train_list = 'mnist_train_100.csv'\n",
        "print(len(train_list))\n",
        "print(train_list)"
      ],
      "metadata": {
        "id": "1N8-XE1u9kCC"
      },
      "execution_count": null,
      "outputs": []
    }
  ]
}
