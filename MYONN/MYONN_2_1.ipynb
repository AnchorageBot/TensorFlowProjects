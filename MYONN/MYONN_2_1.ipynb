{
  "nbformat": 4,
  "nbformat_minor": 0,
  "metadata": {
    "colab": {
      "provenance": [],
      "authorship_tag": "ABX9TyMwh6oxYBesesejjdFD/6l4"
    },
    "kernelspec": {
      "name": "python3",
      "display_name": "Python 3"
    },
    "language_info": {
      "name": "python"
    }
  },
  "cells": [
    {
      "cell_type": "markdown",
      "source": [
        "2.1 Neural Network Class - 1st Draft\n",
        "\n",
        "Reference\n",
        "> Make Your Own Neural Network by Tariq Rashid\n",
        "\n",
        "> https://github.com/makeyourownneuralnetwork\n",
        "\n",
        "IDE\n",
        "> Google Colab\n",
        "\n",
        "> https://colab.research.google.com\n"
      ],
      "metadata": {
        "id": "Ddz01PEZVIId"
      }
    },
    {
      "cell_type": "markdown",
      "source": [
        "\n",
        "\n",
        "A class is a reuseable blueprint for creating objects.\n",
        "\n",
        "Our draft class will simulate a biological neural network by having three parts that serve to:\n",
        "\n",
        "> initialize - set quantity of input, hidden, & output nodes\n",
        "\n",
        "> train - refine network weights by using training data\n",
        "\n",
        "> query - given input data, provide an answer from the output nodes"
      ],
      "metadata": {
        "id": "fW92NZRQFCN9"
      }
    },
    {
      "cell_type": "markdown",
      "source": [
        "Here is a first draft"
      ],
      "metadata": {
        "id": "y7rXMKCmG-AC"
      }
    },
    {
      "cell_type": "code",
      "source": [
        "# draft class definition for a neural network\n",
        "class neuralNetwork:\n",
        "\n",
        "  # initialize the neural network\n",
        "  def __init__():\n",
        "    pass\n",
        "\n",
        "  # train the neural network\n",
        "  def train():\n",
        "    pass\n",
        "\n",
        "  # query the neural network\n",
        "  def query():\n",
        "    pass"
      ],
      "metadata": {
        "id": "V6Q9PmxfHcC9"
      },
      "execution_count": null,
      "outputs": []
    },
    {
      "cell_type": "markdown",
      "source": [
        "Let's revise and expand the initialization function of the class. Our actions will provide us with reusable code to make multiple neural networks of varying sizes.\n",
        "\n",
        "We will:\n",
        "\n",
        "> add input nodes\n",
        "\n",
        "> add hidden nodes\n",
        "\n",
        "> add output nodes\n",
        "\n",
        "> add a learning rate"
      ],
      "metadata": {
        "id": "LahOooVAIAIK"
      }
    },
    {
      "cell_type": "code",
      "source": [
        "def __init__(self, inputNodes, hiddenNodes, outputNodes, learningRate):\n",
        "  self.iNodes = inputNodes\n",
        "  self.hNodes = hiddenNodes\n",
        "  self.oNodes = outputNodes\n",
        "  self.learnRate = learningRate\n",
        "  pass"
      ],
      "metadata": {
        "id": "Lowlbyz9KEil"
      },
      "execution_count": null,
      "outputs": []
    },
    {
      "cell_type": "markdown",
      "source": [
        "We will use this idea as a building block in our future work on neural networks"
      ],
      "metadata": {
        "id": "ytwDwzWQLUvX"
      }
    }
  ]
}
